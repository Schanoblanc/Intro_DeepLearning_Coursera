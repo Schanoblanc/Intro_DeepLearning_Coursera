{
 "cells": [
  {
   "cell_type": "markdown",
   "metadata": {
    "slideshow": {
     "slide_type": "slide"
    }
   },
   "source": [
    "# MNIST digits classification with TensorFlow"
   ]
  },
  {
   "cell_type": "markdown",
   "metadata": {},
   "source": [
    "<img src=\"images/mnist_sample.png\" style=\"width:30%\">"
   ]
  },
  {
   "cell_type": "code",
   "execution_count": 1,
   "metadata": {},
   "outputs": [
    {
     "name": "stdout",
     "output_type": "stream",
     "text": [
      "We're using TF 1.2.1\n"
     ]
    },
    {
     "name": "stderr",
     "output_type": "stream",
     "text": [
      "Using TensorFlow backend.\n"
     ]
    }
   ],
   "source": [
    "import numpy as np\n",
    "from sklearn.metrics import accuracy_score\n",
    "from matplotlib import pyplot as plt\n",
    "%matplotlib inline\n",
    "import tensorflow as tf\n",
    "print(\"We're using TF\", tf.__version__)\n",
    "\n",
    "import sys\n",
    "sys.path.append(\"../..\")\n",
    "import grading\n",
    "\n",
    "import matplotlib_utils\n",
    "from importlib import reload\n",
    "reload(matplotlib_utils)\n",
    "\n",
    "import grading_utils\n",
    "reload(grading_utils)\n",
    "\n",
    "import keras_utils\n",
    "from keras_utils import reset_tf_session"
   ]
  },
  {
   "cell_type": "markdown",
   "metadata": {},
   "source": [
    "# Fill in your Coursera token and email\n",
    "To successfully submit your answers to our grader, please fill in your Coursera submission token and email"
   ]
  },
  {
   "cell_type": "code",
   "execution_count": 2,
   "metadata": {
    "collapsed": true
   },
   "outputs": [],
   "source": [
    "grader = grading.Grader(assignment_key=\"XtD7ho3TEeiHQBLWejjYAA\", \n",
    "                        all_parts=[\"9XaAS\", \"vmogZ\", \"RMv95\", \"i8bgs\", \"rE763\"])"
   ]
  },
  {
   "cell_type": "code",
   "execution_count": 32,
   "metadata": {
    "collapsed": true
   },
   "outputs": [],
   "source": [
    "# token expires every 30 min\n",
    "COURSERA_TOKEN = \"WcLbQKsEw6qDlDst\"\n",
    "COURSERA_EMAIL = \"asdycu@126.com\""
   ]
  },
  {
   "cell_type": "markdown",
   "metadata": {},
   "source": [
    "# Look at the data\n",
    "\n",
    "In this task we have 50000 28x28 images of digits from 0 to 9.\n",
    "We will train a classifier on this data."
   ]
  },
  {
   "cell_type": "code",
   "execution_count": 3,
   "metadata": {},
   "outputs": [
    {
     "name": "stdout",
     "output_type": "stream",
     "text": [
      "Downloading data from https://s3.amazonaws.com/img-datasets/mnist.npz\n",
      "11468800/11490434 [============================>.] - ETA: 30 - ETA: 11 - ETA: 67s - ETA: 43 - ETA: 39 - ETA: 31 - ETA: 28 - ETA: 24 - ETA: 22 - ETA: 20 - ETA: 20 - ETA: 20 - ETA: 19 - ETA: 19 - ETA: 18 - ETA: 18 - ETA: 17 - ETA: 16 - ETA: 16 - ETA: 16 - ETA: 16 - ETA: 15 - ETA: 15 - ETA: 15 - ETA: 14 - ETA: 14 - ETA: 14 - ETA: 14 - ETA: 14 - ETA: 14 - ETA: 13 - ETA: 13 - ETA: 13 - ETA: 13 - ETA: 13 - ETA: 13 - ETA: 13 - ETA: 13 - ETA: 13 - ETA: 13 - ETA: 13 - ETA: 13 - ETA: 12 - ETA: 12 - ETA: 12 - ETA: 12 - ETA: 12 - ETA: 12 - ETA: 12 - ETA: 12 - ETA: 12 - ETA: 11 - ETA: 11 - ETA: 11 - ETA: 11 - ETA: 11 - ETA: 11 - ETA: 11 - ETA: 11 - ETA: 11 - ETA: 11 - ETA: 11 - ETA: 11 - ETA: 11 - ETA: 11 - ETA: 11 - ETA: 10 - ETA: 10 - ETA: 10 - ETA: 10 - ETA: 11 - ETA: 11 - ETA: 10 - ETA: 10 - ETA: 10 - ETA: 10 - ETA: 10 - ETA: 10 - ETA: 10 - ETA: 10 - ETA: 10 - ETA: 10 - ETA: 10 - ETA: 10 - ETA: 10 - ETA: 10 - ETA: 10 - ETA: 10 - ETA: 10 - ETA: 10 - ETA: 10 - ETA: 10 - ETA: 10 - ETA: 10 - ETA: 10 - ETA: 9 - ETA: 10 - ETA: 9 - ETA:  - ETA:  - ETA:  - ETA:  - ETA:  - ETA:  - ETA:  - ETA:  - ETA:  - ETA:  - ETA:  - ETA:  - ETA:  - ETA:  - ETA:  - ETA:  - ETA:  - ETA:  - ETA:  - ETA:  - ETA:  - ETA:  - ETA:  - ETA:  - ETA:  - ETA:  - ETA:  - ETA:  - ETA:  - ETA:  - ETA:  - ETA:  - ETA:  - ETA:  - ETA:  - ETA:  - ETA:  - ETA:  - ETA:  - ETA:  - ETA:  - ETA:  - ETA:  - ETA:  - ETA:  - ETA:  - ETA:  - ETA:  - ETA:  - ETA:  - ETA:  - ETA:  - ETA:  - ETA:  - ETA:  - ETA:  - ETA:  - ETA:  - ETA:  - ETA:  - ETA:  - ETA:  - ETA:  - ETA:  - ETA:  - ETA:  - ETA:  - ETA:  - ETA:  - ETA:  - ETA:  - ETA:  - ETA:  - ETA:  - ETA:  - ETA:  - ETA:  - ETA:  - ETA:  - ETA:  - ETA:  - ETA:  - ETA:  - ETA:  - ETA:  - ETA:  - ETA:  - ETA:  - ETA:  - ETA:  - ETA:  - ETA:  - ETA:  - ETA:  - ETA:  - ETA:  - ETA:  - ETA:  - ETA:  - ETA:  - ETA:  - ETA:  - ETA:  - ETA:  - ETA:  - ETA:  - ETA:  - ETA:  - ETA:  - ETA:  - ETA:  - ETA:  - ETA:  - ETA:  - ETA:  - ETA:  - ETA:  - ETA:  - ETA:  - ETA:  - ETA:  - ETA:  - ETA:  - ETA:  - ETA:  - ETA:  - ETA:  - ETA:  - ETA:  - ETA:  - ETA:  - ETA:  - ETA:  - ETA:  - ETA:  - ETA:  - ETA:  - ETA:  - ETA:  - ETA:  - ETA:  - ETA:  - ETA:  - ETA:  - ETA:  - ETA:  - ETA:  - ETA:  - ETA:  - ETA:  - ETA:  - ETA:  - ETA:  - ETA:  - ETA:  - ETA:  - ETA:  - ETA:  - ETA:  - ETA:  - ETA:  - ETA:  - ETA:  - ETA:  - ETA:  - ETA:  - ETA:  - ETA:  - ETA:  - ETA:  - ETA:  - ETA:  - ETA:  - ETA:  - ETA:  - ETA:  - ETA:  - ETA:  - ETA:  - ETA:  - ETA:  - ETA:  - ETA:  - ETA:  - ETA:  - ETA:  - ETA:  - ETA: 0s"
     ]
    }
   ],
   "source": [
    "import preprocessed_mnist\n",
    "X_train, y_train, X_val, y_val, X_test, y_test = preprocessed_mnist.load_dataset()"
   ]
  },
  {
   "cell_type": "code",
   "execution_count": 4,
   "metadata": {},
   "outputs": [
    {
     "name": "stdout",
     "output_type": "stream",
     "text": [
      "X_train [shape (50000, 28, 28)] sample patch:\n",
      " [[ 0.          0.29803922  0.96470588  0.98823529  0.43921569]\n",
      " [ 0.          0.33333333  0.98823529  0.90196078  0.09803922]\n",
      " [ 0.          0.33333333  0.98823529  0.8745098   0.        ]\n",
      " [ 0.          0.33333333  0.98823529  0.56862745  0.        ]\n",
      " [ 0.          0.3372549   0.99215686  0.88235294  0.        ]]\n",
      "A closeup of a sample patch:\n"
     ]
    },
    {
     "data": {
      "image/png": "[encoded data removed]",
      "text/plain": [
       "<matplotlib.figure.Figure at 0x467fa32b38>"
      ]
     },
     "metadata": {},
     "output_type": "display_data"
    },
    {
     "name": "stdout",
     "output_type": "stream",
     "text": [
      "And the whole sample:\n"
     ]
    },
    {
     "data": {
      "image/png": "[encoded data removed]",
      "text/plain": [
       "<matplotlib.figure.Figure at 0x46049a7a20>"
      ]
     },
     "metadata": {},
     "output_type": "display_data"
    },
    {
     "name": "stdout",
     "output_type": "stream",
     "text": [
      "y_train [shape (50000,)] 10 samples:\n",
      " [5 0 4 1 9 2 1 3 1 4]\n"
     ]
    }
   ],
   "source": [
    "# X contains rgb values divided by 255\n",
    "print(\"X_train [shape %s] sample patch:\\n\" % (str(X_train.shape)), X_train[1, 15:20, 5:10])\n",
    "print(\"A closeup of a sample patch:\")\n",
    "plt.imshow(X_train[1, 15:20, 5:10], cmap=\"Greys\")\n",
    "plt.show()\n",
    "print(\"And the whole sample:\")\n",
    "plt.imshow(X_train[1], cmap=\"Greys\")\n",
    "plt.show()\n",
    "print(\"y_train [shape %s] 10 samples:\\n\" % (str(y_train.shape)), y_train[:10])"
   ]
  },
  {
   "cell_type": "markdown",
   "metadata": {},
   "source": [
    "# Linear model\n",
    "\n",
    "Your task is to train a linear classifier $\\vec{x} \\rightarrow y$ with SGD using TensorFlow.\n",
    "\n",
    "You will need to calculate a logit (a linear transformation) $z_k$ for each class: \n",
    "$$z_k = \\vec{x} \\cdot \\vec{w_k} + b_k \\quad k = 0..9$$\n",
    "\n",
    "And transform logits $z_k$ to valid probabilities $p_k$ with softmax: \n",
    "$$p_k = \\frac{e^{z_k}}{\\sum_{i=0}^{9}{e^{z_i}}} \\quad k = 0..9$$\n",
    "\n",
    "We will use a cross-entropy loss to train our multi-class classifier:\n",
    "$$\\text{cross-entropy}(y, p) = -\\sum_{k=0}^{9}{\\log(p_k)[y = k]}$$ \n",
    "\n",
    "where \n",
    "$$\n",
    "[x]=\\begin{cases}\n",
    "       1, \\quad \\text{if $x$ is true} \\\\\n",
    "       0, \\quad \\text{otherwise}\n",
    "    \\end{cases}\n",
    "$$\n",
    "\n",
    "Cross-entropy minimization pushes $p_k$ close to 1 when $y = k$, which is what we want.\n",
    "\n",
    "Here's the plan:\n",
    "* Flatten the images (28x28 -> 784) with `X_train.reshape((X_train.shape[0], -1))` to simplify our linear model implementation\n",
    "* Use a matrix placeholder for flattened `X_train`\n",
    "* Convert `y_train` to one-hot encoded vectors that are needed for cross-entropy\n",
    "* Use a shared variable `W` for all weights (a column $\\vec{w_k}$ per class) and `b` for all biases.\n",
    "* Aim for ~0.93 validation accuracy"
   ]
  },
  {
   "cell_type": "code",
   "execution_count": 5,
   "metadata": {},
   "outputs": [
    {
     "name": "stdout",
     "output_type": "stream",
     "text": [
      "(50000, 784)\n",
      "(10000, 784)\n"
     ]
    }
   ],
   "source": [
    "X_train_flat = X_train.reshape((X_train.shape[0], -1))\n",
    "print(X_train_flat.shape)\n",
    "\n",
    "X_val_flat = X_val.reshape((X_val.shape[0], -1))\n",
    "print(X_val_flat.shape)"
   ]
  },
  {
   "cell_type": "code",
   "execution_count": 6,
   "metadata": {},
   "outputs": [
    {
     "name": "stdout",
     "output_type": "stream",
     "text": [
      "(50000, 10)\n",
      "[[ 0.  0.  0.  0.  0.  1.  0.  0.  0.  0.]\n",
      " [ 1.  0.  0.  0.  0.  0.  0.  0.  0.  0.]\n",
      " [ 0.  0.  0.  0.  1.  0.  0.  0.  0.  0.]] [5 0 4]\n"
     ]
    }
   ],
   "source": [
    "import keras\n",
    "\n",
    "y_train_oh = keras.utils.to_categorical(y_train, 10) #one hot\n",
    "y_val_oh = keras.utils.to_categorical(y_val, 10)\n",
    "\n",
    "print(y_train_oh.shape)\n",
    "print(y_train_oh[:3], y_train[:3])"
   ]
  },
  {
   "cell_type": "code",
   "execution_count": 26,
   "metadata": {
    "collapsed": true
   },
   "outputs": [],
   "source": [
    "# run this again if you remake your graph\n",
    "s = reset_tf_session()"
   ]
  },
  {
   "cell_type": "code",
   "execution_count": 27,
   "metadata": {
    "collapsed": true
   },
   "outputs": [],
   "source": [
    "# Model parameters: W and b\n",
    "feature_dimension = 784\n",
    "categories_number = 10\n",
    "W = tf.get_variable(\"W\",shape=(feature_dimension,categories_number))### YOUR CODE HERE ### tf.get_variable(...) with shape[0] = 784\n",
    "b = tf.get_variable(\"b\",shape=(1,categories_number))### YOUR CODE HERE ### tf.get_variable(...)"
   ]
  },
  {
   "cell_type": "code",
   "execution_count": 28,
   "metadata": {
    "collapsed": true
   },
   "outputs": [],
   "source": [
    "# Placeholders for the input data\n",
    "input_X = tf.placeholder(shape=(None, feature_dimension),dtype='float32')### YOUR CODE HERE ### tf.placeholder(...) for flat X with shape[0] = None for any batch size\n",
    "input_y = tf.placeholder(shape=(None, categories_number),dtype='float32')### YOUR CODE HERE ### tf.placeholder(...) for one-hot encoded true labels"
   ]
  },
  {
   "cell_type": "code",
   "execution_count": null,
   "metadata": {},
   "outputs": [],
   "source": []
  },
  {
   "cell_type": "code",
   "execution_count": 29,
   "metadata": {},
   "outputs": [],
   "source": [
    "# Compute predictions\n",
    "logits = input_X @ W + b ### YOUR CODE HERE ### logits for input_X, resulting shape should be [input_X.shape[0], 10]\n",
    "probas = tf.nn.softmax(logits,dim = -1)  ### YOUR CODE HERE ### apply tf.nn.softmax to logits\n",
    "classes = tf.arg_max(probas,dimension=1) ### YOUR CODE HERE ### apply tf.argmax to find a class index with highest probability\n",
    "\n",
    "# Loss should be a scalar number: average loss over all the objects with tf.reduce_mean().\n",
    "# Use tf.nn.softmax_cross_entropy_with_logits on top of one-hot encoded input_y and logits.\n",
    "# It is identical to calculating cross-entropy on top of probas, but is more numerically friendly (read the docs).\n",
    "loss = tf.reduce_mean(tf.nn.softmax_cross_entropy_with_logits(labels=input_y,logits=logits))### YOUR CODE HERE ### cross-entropy loss\n",
    "\n",
    "# Use a default tf.train.AdamOptimizer to get an SGD step\n",
    "step = tf.train.AdamOptimizer().minimize(loss)### YOUR CODE HERE ### optimizer step that minimizes the loss"
   ]
  },
  {
   "cell_type": "code",
   "execution_count": 30,
   "metadata": {
    "scrolled": false
   },
   "outputs": [
    {
     "data": {
      "text/html": [
       "<img src=\"data:image/jpeg;base64,/9j/4AAQSkZJRgABAQAAAQABAAD/2wBDAAIBAQEBAQIBAQECAgICAgQDAgICAgUEBAMEBgUGBgYFBgYGBwkIBgcJBwYGCAsICQoKCgoKBggLDAsKDAkKCgr/2wBDAQICAgICAgUDAwUKBwYHCgoKCgoKCgoKCgoKCgoKCgoKCgoKCgoKCgoKCgoKCgoKCgoKCgoKCgoKCgoKCgoKCgr/wAARCAEgA2ADASIAAhEBAxEB/8QAHwAAAQUBAQEBAQEAAAAAAAAAAAECAwQFBgcICQoL/8QAtRAAAgEDAwIEAwUFBAQAAAF9AQIDAAQRBRIhMUEGE1FhByJxFDKBkaEII0KxwRVS0fAkM2JyggkKFhcYGRolJicoKSo0NTY3ODk6Q0RFRkdISUpTVFVWV1hZWmNkZWZnaGlqc3R1dnd4eXqDhIWGh4iJipKTlJWWl5iZmqKjpKWmp6ipqrKztLW2t7i5usLDxMXGx8jJytLT1NXW19jZ2uHi4%2BTl5ufo6erx8vP09fb3%2BPn6/8QAHwEAAwEBAQEBAQEBAQAAAAAAAAECAwQFBgcICQoL/8QAtREAAgECBAQDBAcFBAQAAQJ3AAECAxEEBSExBhJBUQdhcRMiMoEIFEKRobHBCSMzUvAVYnLRChYkNOEl8RcYGRomJygpKjU2Nzg5OkNERUZHSElKU1RVVldYWVpjZGVmZ2hpanN0dXZ3eHl6goOEhYaHiImKkpOUlZaXmJmaoqOkpaanqKmqsrO0tba3uLm6wsPExcbHyMnK0tPU1dbX2Nna4uPk5ebn6Onq8vP09fb3%2BPn6/9oADAMBAAIRAxEAPwD9/KKKKACiiigAooooAKKKKACiiigAooooAKKKKACiiigAooooAKKKKACiiigAooooAKKKKACiiigAooooAKKKKACiiigAooooAKKKKACiiigAooooAKKKKACiiigAooooAKKKKACiiigAooooAKKKKACiiigAooooAKKKKACiiigAooooAKKKKACiiigAooooAKKKKACiiigAooooAKKKKACiiigAooooAKKKKACiiigAooooAKKKKACiiigAooooAKKKKACiiigAooooAKKKKACiiigAooooAKKKKACiiigAooooAKKKKACiiigAooooAKKKKACiiigAooooAKKKKACiiigAooooAKKKKACvPfjt%2B1J8FP2b5NGsfil4g1Maj4ilnTQNB8OeF9R1zVNR8lVed4bHTbee5kjiVkMkixlI96biu5c%2BhV4N%2B0P8D/j5/wANJ%2BDv2tv2bLLwfrWueH/B2seFNX8KeOdcutLtLywv7mwuxcQXtraXj288U2noCpt3WVJSCUKK1ABpf/BTL9izWLvxPb2nxXv0h8FWsk/jLUrvwXrEFjoIS0iu9l5dy2iwWsrQzRskMjrJIWKorMrKL2n/APBQ/wDZK1HwBrXxFTx/q9vB4f1ay0vVdE1DwNrNrrkV5ebfscC6PNaLqEr3AYGER27eaAxTcFYjy2b9gH4y%2BMf2a/jn8NfGHinwppHin4o/FS38daHc6U1xeWFpeW0OiywQ3IkihkkiN3pRRwoyYHGDuJVaPi79i/8AaV%2BLmr/Ef45fG34S/CjWvFnjWx8KaPp/gKy%2BI2s2Wm6fY6Hcaldw3qa7b6al5DqDXOqTOksVoPJSKNFZiWcgHsviH9vv9mzwv4a8OeI9XvvG3meK0v5NE8P2vwm8SXGuSRWUscV3NJpMWntf28MLzQq8s0CIpmiy37xM%2Bmaz8RPBHhv4e3XxX8T%2BJbbSvDljo76rf6vqrfZYbSySIzPPMZdvlKsYLNvxtAOcYNfGHin9hH9s/WPgX4X8Nay3hfxV470a58RHRfGV/wDHbxNpGr%2BCLW%2BuUktLO11q1sJLzXIYkjhEy3qw/aTbReYCFGPUfjR/wTotfj1%2Bzb4n%2BHHxD%2BOfjW78d%2BMPhfH4Z17xS3jbWho818tpDE2oJoS3y2FuzzQLK3kRRSEPIBIrSM5AOkg/4KUfsZf8K58V/FbWPite6Jo3giysr7xQ/ifwdq%2Bk3NlZXkxhtb37LeWsVxJaSyK6pcxxtC3luQ%2BEYjj/AI3f8FZP2d/hn8ENU%2BMfgPRfFXiqbQfiD4X8L674Y/4QXXbHU7A6zqVrax3T2cmnNdeV5Fw88DeT5d48aW8MhknjB8r1T/gmJ8ZPHfwq8faR4i8DeG9G8Y%2BI9D0fR7DxDqv7RfjPxut3aWusW%2BoTRyf27AfsEZ8likUSzHe%2BGkxknv8A9qH9gz40/GD4g/F/4g%2BBfEPheOTxfB8LbzwlZ6tfXMSvf%2BE/EdzrUsN40dvJ5ENwGt4VljEzrl2MfyKrgHqFh/wUE/Zb1H4m2XwZh8T%2BJo/Fd5oun6xLoF38N9egudO0%2B9adILu/SSyU6dDut5VeS68pYiFEhQum6j4a/wCCmH7FPi3wZ4s%2BIWkfGC4TR/Bfgi68Zaxe6h4S1W0Fx4et0Z5tWsVntUbVLNVQ4nsxPGxZArEugbB0P9kP4ofEP4mfG74g/G9fD2gxfGj4O%2BHfCF1Y%2BE9duNRl0u4tE11Ltlnns7XzYwNViMT7FZikm6OPA3fN37Y37Kn7UOj/ALDHxS%2BJv7TF34AtIfhD%2BxT8QfBHhePwFqF5cNrzXukWxn1G6W5toBYqE0i3CWcbXAVppCZ22oKAPrPw9/wUl/Yy8TaHrHiPT/i1dQWehppU1/JqnhLVbJmtNSu1s7HUIUuLVGubCWdgovoQ9qoDO0qorMPT9E%2BLvw88R/FLX/gvofiH7T4k8LaXp%2Boa/YR2k22zgvmuBa7pinlF3%2ByzHy1cyKoRmVVkjLfJOofsz%2BIPFegeKfjb/wAFIvF/wz8J%2BBbf9nu5%2BHUlx4f8QTLay6beyQyXmq3k17BbpYOTBbCG2QzCAmT/AEiQsuOw/wCCPngP4u2f7I9r8f8A9pDUDf8AxJ%2BL15H4n8V6g9nJbtJCLSCy01fKl%2BeH/iX2lpI0TYKSzTZAYtkA%2BqqKKKACiiigAooooAKKKKACiiigAooooAKKKKACiiigAooooAKKKKACiiigAooooAKKKKACiiigAooooAKKKKACiiigAooooAK8R0j/AIKMfse6ld69Z6n8Urzw83hzw5c%2BINQk8a%2BEdV0GObSbd0jnv7WTUrWBb63R5IlaW2MqAyxjOXXPtN7FczWcsNndCCZ4mWKYx7/LYjhtp64POO9fmJq//BHL9uX4v6t4X1z43fHHQ31vw14P1Cz1DxRqHxW8TeJx4h1v7ZpV9a6idLvoobLSbaS50xfPsLIBRHJtWWQKgUA%2B2X/b/wD2YbX4aN8WNY8QeKtK0ttcg0axs9c%2BGWv2GqanfzIZIYLLTbixS9v2kQM6/Z4ZAyo7AkIxHReA/wBqz4H/ABH1%2By8J%2BHPEOqQ6vf8AhSfxJDpGteFdS0y7TTYbv7JLLLDeW8UkDrP8hhkVZe%2BzbzXk3xO%2BDn7bvxib4e/G3XPBvwq0P4h/Cjx1NrHh/wAM2vjjUr/Rdcs7jSbvTLmO4vn0qGaxmKXskkbpa3AjMQU%2BYJGxV%2BJPwG/bg1/4y%2BHf2mvA%2BjfCu08WX3ww1XwX4x0LUvFepSWGkLcX8N1a39lcJpwk1AxCN1kt5YrQSlxiWLHIB3Gk/wDBRv8AZA8R694F8LeFfiNqus6n8SfBuleLfBunaJ4H1m9nvND1F9lrqMiQWjNa2%2B7HmSTiNbcMpm8oMCdj4a/tufs3fFf4jXPwn8M%2BL9Ws9ft9LudThsvE/gzVtEW/sbeRI57uyl1G1gjv4I3liDy2zSIvmISQGUnyj9hT9hL4sfsw6/8ADjWfHniDw1dnwd%2Byl4R%2BGN%2B%2BkXM8rNq2lvM1zNF5kEe61bemxmKu235o0wK8a%2BGn/BKv9sbxP8UfC/ib9qb4w2eqRaf4A8V%2BF/GniaD4v%2BJNavPEUur2KW39p2umX0Men6EcqWNpaKUXKgTOI1WgD6l8J/8ABRf9kfxrosfirQfHeuf2Hcarpen6f4lvfh/rdrpWoy6lex2VlJaX09mlteQS3M0UYuIJHhBlQs4VgT6X4W%2BLvw88a/EDxT8LvC/iH7XrnguSzj8T2iWkwWxkuoPtEEZlZBG7tCVkKIzMiyRlgokTd8w%2BOPAnxF8K/wDBPbxp8CP%2BChnif4VeCPAWg/DSLQLb4meHfFt2GadI0trXUntLqzgTTZlmFvJDBHcXTGcoiOTtDdr/AMEr/h98WPDf7ImlfFX9oqwS3%2BJ3xYvpfHXxEhW3aL7Pf36xmG02N8yfZbGOys9pyQLXBoA%2BjaKKKACiiigAooooAKKKKACiiigAooooAKKKKACiiigAooooAKKKKACiiigAooooAKKKKACiiigAooooAKKKKACiiigAooooAKKKKACvF/j14/8A2i/%2BGi/AvwI%2BAvjPwV4fTX/BXiXXtX1Pxf4Lu9aJOnXeh28MMMdvqVj5Yb%2B1JWZmZ8%2BWgAXkn2ivCviLrSWX/BSr4Q6LIoxe/BP4hsjZ53R6t4NOPyZj%2BFJtLcuEJVHaPZv7tWX/APhB/wDgoX/0dB8Gf/DD6t/81FH/AAg//BQv/o6D4M/%2BGH1b/wCaivZqKZB4z/wg/wDwUL/6Og%2BDP/hh9W/%2Baij/AIQf/goX/wBHQfBn/wAMPq3/AM1FezUUAeM/8IP/AMFC/wDo6D4M/wDhh9W/%2Baij/hB/%2BChf/R0HwZ/8MPq3/wA1FezUUAeM/wDCD/8ABQv/AKOg%2BDP/AIYfVv8A5qKP%2BEH/AOChf/R0HwZ/8MPq3/zUV7NRQB4z/wAIP/wUL/6Og%2BDP/hh9W/8Amoo/4Qf/AIKF/wDR0HwZ/wDDD6t/81FezUUAeM/8IP8A8FC/%2BjoPgz/4YfVv/moo/wCEH/4KF/8AR0HwZ/8ADD6t/wDNRXs1FAHjP/CD/wDBQv8A6Og%2BDP8A4YfVv/moo/4Qf/goX/0dB8Gf/DD6t/8ANRXs1ZvjGea18I6rdW0rJJHps7RupwVYRsQR75oA8r/4Qf8A4KF/9HQfBn/ww%2Brf/NRR/wAIP/wUL/6Og%2BDP/hh9W/8Amoq943/aA/Ya%2BFvie58B/Ev44fCnw/rdgIxe6Rr/AIn021vIN8ayJ5kc0gdSyOrgsOVYHkEGsn/hr/8A4Jwf9HRfBH/wttH/APjtc0sbgoScZVYpr%2B9H/wCSPco8McT4ilGrSwFeUZJNNUK7TT1TTVFpprZptPo2WP8AhB/%2BChf/AEdB8Gf/AAw%2Brf8AzUUf8IP/AMFC/wDo6D4M/wDhh9W/%2Baiq/wDw1/8A8E4P%2Bjovgj/4W2j/APx2vSvFekfD7wh4W1LxZqHge0mt9L0%2Ba7nistE%2B0TOkaF2WOKKNnkchSAiKzMcAAkgVpSxFCvf2U1K3Zp/k2ceOynNsr5fruGqUea9vaU6lO9t7c8IXtdXte11e10ee/wDCD/8ABQv/AKOg%2BDP/AIYfVv8A5qKP%2BEH/AOChf/R0HwZ/8MPq3/zUVxnwM/b4/Y6%2BN3hf4YX1r4F17Stf%2BKvhy31nw/4VvPhTq7XS27/Y1lncrYbRaRSX1ujXxItSH3iXZlhvT/tX/ssXuh6hqGgaLDa3uk694c07UdL8aeBdW0C4jXWdVi02znWG607z5I5ZnkSKVYjA8sTI80KrJLHqeeav/CD/APBQv/o6D4M/%2BGH1b/5qKP8AhB/%2BChf/AEdB8Gf/AAw%2Brf8AzUVS%2BHn7W/7EPxS8b3vw/wDCGt2JvrBtaWW51PwXe2FhK%2BkXZtNTSG9urWO2uGtplKyrFK5QDeRs%2BatT9oT4meCvhF8OdE8UfD/4V%2BH/ABbrHi/xDpuieDdN%2B0xWlpqF1euNkkl2kM3lW6QiW4eRI5W8uJtiOxVSAQf8IP8A8FC/%2BjoPgz/4YfVv/moo/wCEH/4KF/8AR0HwZ/8ADD6t/wDNRUnwN%2BIem/G34J6p47svgPolj4s0PVNZ0XVPCTXkUkC6xp11PavAl4bdd0EskIeOcwqximRmiRt0Y8Z%2BKH7dkvwS%2BHvj2%2B%2BLH7M3w10jxT4B8Y%2BEtE1SKT4ihfDaR69d21vDcz6vLpUclt5C3BlmjezyqCNgSsqsAD2L/hB/%2BChf/R0HwZ/8MPq3/wA1FH/CD/8ABQv/AKOg%2BDP/AIYfVv8A5qK82%2BLn7avgH4VeE/hxDd%2BEfgefE3xF0u/1WyutT%2BLENj4Si0%2Bzkto5Jo9bfTS1yzvfWSRRpabpGmfGEiZ63Pi9%2B0pYfBf47%2BAPhH4m%2BDXwzuovH%2BpWNhp2n6Z46WXxM7z/ACz3UGkHTlFzY2zZea5FyuyFJJCg27CAdb/wg/8AwUL/AOjoPgz/AOGH1b/5qKP%2BEH/4KF/9HQfBn/ww%2Brf/ADUVwH7NP7Vsf7TWv/E7RfB/wY%2BED3XgLX/FGiWXh3T/AInpda9PeaVrN5pcB1Gw/stBpcN2bNplkMs5RJY8LJkkavgT4x/Fnx8/jn4daT%2ByL8Ov%2BFieAvEGn2Gq6Wvj920J4buyjvElGpDR/PEqxyKGgNluBeNslJA9AHVf8IP/AMFC/wDo6D4M/wDhh9W/%2Baij/hB/%2BChf/R0HwZ/8MPq3/wA1FeT%2BP/2yvF2k/sWS/tm/Df8AZD8A6vZaRba1H4h0DWfHcljPJqGn6hNpyWumSwaPdJqC3VzAy28r/ZxIstu20eYQm/4c/ansNe/bSvv2Pbv4S/CHSr3R9O0y51OLVfiUsWuXRubJrmU6fpY0w/bYoSuxpTPFkZYhcbSAdz/wg/8AwUL/AOjoPgz/AOGH1b/5qKP%2BEH/4KF/9HQfBn/ww%2Brf/ADUV5P4a/wCChHwZ8RaH8U/ijb/Dn4c3Hgz4Z%2BH9b1OS10jxvbXfiy7XTpniDy6KtoFs4LoxStBI90WZWgLRoZSI7GoftieIfDWoyfCDxt%2ByH4O074rS%2BM9H0HTfDkfjMS6HMmp2F3e213Jqp0xZIk2affwlRZuxuIFjQOJUkoA9Q/4Qf/goX/0dB8Gf/DD6t/8ANRR/wg//AAUL/wCjoPgz/wCGH1b/AOaivD9Z/wCCkPg2XwBF408Bfs0%2BEtUk0Xwj4r8ReP4b/wAXwWdvp1t4c1V9K1OLT7gWUg1KX7TDP5RdbWJ4xE8ksPnIK9D%2BIvx88W%2BE/jJ8L/C3hD9mb4d%2BIfBvxX8R2%2Bn%2BHdfi8aTwaslodLm1G5v5NOOjtEsUUVvKAPtfzloRlGlCAA63/hB/%2BChf/R0HwZ/8MPq3/wA1FH/CD/8ABQv/AKOg%2BDP/AIYfVv8A5qK8/wDgv%2B1q3xj8SWel2f7Knh6ysfG/g/XfEfwevm8Qo7eIbbTLq3tyl8hslGmPP9stJogj3Q8mSQvseMxn0f8AZG8faZ%2B0j8DbT4peL/gj4f8ADGrf2/rmj6pomn3i6lb29zpmr3mmSGK5a2t2mR3s2kUmGM4cAjjJAIP%2BEH/4KF/9HQfBn/ww%2Brf/ADUVQ8D%2BOP2rPB37Vnhz4I/G74j/AA98TaN4m%2BHviHXIZvCvw8vtFurS602%2B0S3RWe41e%2BSWN01SUlQiMGiQhsZB9Q8WeE/C2m%2BFtS1LTfDljbXNtYyy29xb2iI8bqhZWVlAIIIFefeOP%2BUhfwv/AOyM%2BPP/AE7eEKAPZqKKKACiiigAooooAK%2BcfhN4q/bv%2BOuj69478L/G/wCEmgaXb/ELxVoel6Vf/B/VL%2B4itdL16/0yFpbhPEUCyyPHZq7MsUa7nICgAV9HV4z%2Bwf8A8kQ1z/ss3xH/APU11ugA/wCEH/4KF/8AR0HwZ/8ADD6t/wDNRR/wg/8AwUL/AOjoPgz/AOGH1b/5qK9mooA8Z/4Qf/goX/0dB8Gf/DD6t/8ANRR/wg//AAUL/wCjoPgz/wCGH1b/AOaivZqKAPGf%2BEH/AOChf/R0HwZ/8MPq3/zUUf8ACD/8FC/%2BjoPgz/4YfVv/AJqK9mooA8Z/4Qf/AIKF/wDR0HwZ/wDDD6t/81FH/CD/APBQv/o6D4M/%2BGH1b/5qK9mooA8Z/wCEH/4KF/8AR0HwZ/8ADD6t/wDNRR/wg/8AwUL/AOjoPgz/AOGH1b/5qK9mooA8Z/4Qf/goX/0dB8Gf/DD6t/8ANRR/wg//AAUL/wCjoPgz/wCGH1b/AOaivZqKAPGf%2BEH/AOChf/R0HwZ/8MPq3/zUUf8ACD/8FC/%2BjoPgz/4YfVv/AJqK9mooA8Z/4Qf/AIKF/wDR0HwZ/wDDD6t/81FH/CD/APBQv/o6D4M/%2BGH1b/5qK9mooA8Z/wCEH/4KF/8AR0HwZ/8ADD6t/wDNRR/wg/8AwUL/AOjoPgz/AOGH1b/5qK9mooA8Z/4Qf/goX/0dB8Gf/DD6t/8ANRR/wg//AAUL/wCjoPgz/wCGH1b/AOaivZqKAPGf%2BEH/AOChf/R0HwZ/8MPq3/zUUf8ACD/8FC/%2BjoPgz/4YfVv/AJqK9mooA8Z/4Qf/AIKF/wDR0HwZ/wDDD6t/81FH/CD/APBQv/o6D4M/%2BGH1b/5qK9mooA8Z/wCEH/4KF/8AR0HwZ/8ADD6t/wDNRR/wg/8AwUL/AOjoPgz/AOGH1b/5qK9mooA8Z/4Qf/goX/0dB8Gf/DD6t/8ANRR/wg//AAUL/wCjoPgz/wCGH1b/AOaivWr3xBoOmzfZ9R1uzt5MZ8ue5RGx9CaztZ%2BKPwy8OWpvvEPxF0KwhHWa91eGJfzZgKlzhHdpfNf5kSqU4/FJL5r/ADPNv%2BEH/wCChf8A0dB8Gf8Aww%2Brf/NRR/wg/wDwUL/6Og%2BDP/hh9W/%2BaityP9s79j2bUW0iL9q/4atdr961Xx1p5kH1Xzs1vR/Hn4GzWwvYvjP4TaFvuzL4itip/Hfiso4rCz%2BGpF/9vR/%2BSMY4zBz%2BGrF%2Bkov8pM4X/hB/%2BChf/R0HwZ/8MPq3/wA1FH/CD/8ABQv/AKOg%2BDP/AIYfVv8A5qK6bWf2sP2WfDkZm8Q/tLfD%2BwQdWvfGVjEPzaUVw/if/gqB/wAE8/CKs2q/th%2BA5QvX%2By9djvj%2BH2bfms6mPwFL46sF6yj/APJGVXM8soL95XhH1nBf%2B3Gl/wAIP/wUL/6Og%2BDP/hh9W/8Amoo/4Qf/AIKF/wDR0HwZ/wDDD6t/81FeZaj/AMFxP%2BCZVnM1tZftC3GoyocFNO8G6tJ%2BTfZQp/A1yfjT/gv3%2BxF4bt/N8OeGPiN4jJ4U6b4S8iMH/ae7lhCj1POK4p8QZHTV3iYfKSf5XMsPnOVYyoqeGqqrJ7RpqVST9I04VJP5JnvP/CD/APBQv/o6D4M/%2BGH1b/5qKP8AhB/%2BChf/AEdB8Gf/AAw%2Brf8AzUV8l3//AAcM%2BCgDPov7NImhbmI3nxX0KCQj/aQSsVPtXL%2BJP%2BDkj%2BxkLWH7HdjcAdz8YbBsfhDbyE1xz4u4egruv/5LL/I%2Bjw2R8UYySjh8pxs2/wCXA4x/%2B60T7c/4Qf8A4KF/9HQfBn/ww%2Brf/NRVv9lb4jfGnxhrHxQ8CfHTX/C%2Brap4B%2BIUWh2eq%2BE/DVzpNvdWsug6Pqas9vcXt4yyLJqMqFhLtKxodqnOfz8tf%2BDjX4reKh/xSH7KOhRlvuibX9Su/wD0Tp4z%2BFfUX/BIP48eMf2mfB/xn%2BN/j7wrbaJq2ufGYG60yzjuEjhEPhfw9AmBcokvKRKx3KOWOOMGurLuIMrzas6WFm5NK/wtK2i3fqaY7h/ijKaaqZllmKw0G7KVfD1aMW9%2BVOoo3lZN25dk30PryiiivaPLCiiigAooooAKKKKACiiigAooooAKKKKACiiigAooooAKKKKACiue%2BK/j2%2B%2BGHw81Px5pvw817xXPpsKyJ4e8Mi1N9eZdVKxfa54IQQGLEySooVWOeMHB8HftA6Z8R/2aPD37Tnw6%2BHfiXW7HxT4S07X9D8NWcNquqXEN7BFNDCVluEt0lCyru3TiNSGJkwN1AHf18u/tCaz/AGX/AMFZ/wBmax34/tL4Y/Ey3x64k8MTY/8AIX6V7L8Af2gND%2BP2k6/LaeC9e8M6x4T8RvoXinwz4mjthe6XfLbW92sbtaTz28ge2u7aZXimkUrMvIYMo%2Bb/ANs3VzpH/BYz9i4M2I7vw98T7aQ/71ho5Uf99KtcuMn7OhzecfxlFfqe7w5hvreaey706z/8BoVpf%2B2n2bRRRXUeEFFFFABRRRQAUUUUAFFFFABRRRQAVl%2BOf%2BRJ1j/sFXH/AKLatSsvxz/yJOsf9gq4/wDRbUAch45/ZF/ZQ%2BKHim68c/Ev9mH4eeItbvtn23WNd8FWF3dXGxFjTfLLEzvtRFQZJwqgDgCsn/hgf9hX/oyz4S/%2BG50z/wCMVyPxz/4KtfsDfs1/FPVPgp8a/j1/YvibRfI/tPTP%2BEW1W58nzoI54/3kFq8bZiljb5WON2Dgggcl/wAPzf8Agll/0dF/5ZOuf/IVeHWxnDUaso1Z0eZN3v7O9%2Bt7q9%2B99TReJGIwK%2BrLOp01D3eVYqpFRtpy8qrpRttZJJbWR63/AMMD/sK/9GWfCX/w3Omf/GK9UvrOHUbGbT7nPlzxNHJtODtYYP8AOvlD/h%2Bb/wAEsv8Ao6L/AMsnXP8A5Cr6o8QarNoWg32t2%2BjXmpSWdnLOmnaeqG4uiiFhFEHZVLtjau5lGSMkDmuzA18qrc31KUHa1%2BTl%2BV%2BVLztcmXFNXiX48fLE%2Bz71p1eXm7c1Spy3t0te3W2nz3%2Bzf%2Bwj4z%2BCo8DL4v8Ajxa603gD4N3Pw40W50Lwm%2Blztp7Pp32e6d3vbkfao108bmUKjvKGVIgmxvK/g3/wRqf4WpfyXHxo8KJcX1v4BguZvCvwqXSTft4Z8RJrX22%2Bb7fNJe397sMM1y7jBIkCHBjb2O//AOCkHwJHgK5%2BJPhrSdX1fSrT4baB43ubwX%2BladBDp2szyxWMclzqd9bW8M7CCeRkklVVWL7xZ40fzvxT/wAFWPCmteD9I%2BM3wja2l8DX3wQ%2BJHjDUbuXTotUvrTUfDGq6Jp5gjW21BLW6jEl9fBhHc%2BXOYoWiuVjO9/QJPRPh/8AsO6h8Ob/AME6xo3xXglu/BPirx1rlqbjw6THcyeIr%2B9vFjdVuQQtu12FJDZmEef3W75e3/aE%2BBPiP44/DnRNK07x9Z6H4u8M%2BIdN1/QfEf8AYbXNpDqVo4JMln9oRpLeVGmheITq4jnbbKrgOPMfHf8AwUDu1/aD8D/Bz4YfCXXLnRNa%2BMNx4H13x5qdhAdJlubbSNQvLq1tDHdi5WeKa0SMyy24tyY541dnAx6H%2B0n%2B0NqXwr/ZqufjL8PNBNzqmo3mk6X4Zs/EenXNkq3%2BqajbabaNdQSrHPHGk93E8iEI%2BxWA2nBABU%2BEv7PHxU%2BDHwivvBHhL4y6PJ4i1q48Raxrnie%2B8HSSJNr%2Bp3Ml1HdRWwvVEVpbyysotWeR3ijiQ3CsrySct%2Bzt%2Byp%2B05%2Bzz8C734b6X%2B0P8PdW8UXesrqk/jTUPhNfs%2Bq3shLXt5qUR10vd3Mx2bXjmgSERrGkflIkadd%2Byz8Xvih8QZ/iL8NfjFLoF14q%2BGnjgeH9Q1jw1pk9jYaqk2k6dqtvcx201xcSW/7nUo4njaaT95A7BtrKB4144/aw/bT%2BGll8ZfAcFt4H%2BIXjD4f%2BAdK1vTLzwP8AD/VvIs9TvJ51Gk3NguoXE97MII47lRBNFK0cqbooxJEzgGin/BNLXfD3h3w1q/gH4y%2BHbfxzo8XjWDUte1/4ci/0u4t/FWox6jqsVvpq3sP2UC4hhEGZ5dkayJKJzK7Hpr39if4jXPh74dfBSL486Yvwv%2BG954Wu9K0p/Bsr%2BIriXQjbSW4fVzf%2BUElmtUM22zDvFJNFvAkJHDeP/wBtL48af8EPAvi74WfEHQvE17qXxWuvDnxF8R6b%2Bzn4quT4VsotF1K9/wBJ8OQ351O2n%2B02%2Bnws80oVUvlcxgOhrV%2BPf7fPivwhoPwqT9n3U/CHjqXxDrvgSbx14ohs510yLQdf8QafosdzaRpcM0VxdSXk01qkksqpHY3BkMhRRIAdfq37LH7QPib4wz/HLX/2hvCcGv6F4O8Q6J8NZdE%2BGMlumkyao9vILnURLqcx1TyntLdvJjNpHIwkZgCyGLjdF/YK/ag8O/se6t%2BzBoH7X3hfTNY1zV47vXPH%2Bl/DG/iv9YSWTzNTe8Y660z3d6fka6hmgaCNmWFYysLRdL4x/aT%2BN3w8/bc8LfAPULzRNa8PeMDqDQWa/DzVNJk0qCDTbi6jca5c3cmn6pO0sCxtZW8Uc6RztOQI7eQt5v8AsR/tx/tWftg2mteGYp/BOja/L8PtC8R6Vdap8OdYsLfR7i9uZ0uLTyLm/VvEVrFHCfL1SxlgtJ3I2NhvlAPZtS/ZL1rxd8IPhd8HfGXjHwza6V4A8X6XrGq6T4N8FyaXpeqW2ltJNplhBayXtwbKOC6j02ckyTBjYlQqCUeXN8a/2a/ij8c/iboF14m%2BLnhy18BeHvGWk%2BJ7Pw/Y%2BBZBrTX2nsk0SnVGv2jWJpkBcLZq7Qs8PmbWYnwzV/8AgpF8WNJ%2BG3hrSLi%2B8Ly%2BJfFPxU17wronjnRPh/rOsaVqun6VBNNPqdlotjcSX12WeI2ohjuWUGOe485oo9rVfjf/AMFLPi74A8V%2BD7P4c694K8S6HqPgTwprkniGx8Darcaf4km1TVJrG4/0yG8MHhS2jSJJYp9TMyStO8Ss72suQDqH/wCCT2g6vpuqfDbxJ8WLZPASaB410vwjougeExY6npa%2BJrg3F49xftcyreeS5PkBYIOVjaYzugeuqk/Yk%2BKPiDwh47vPin8UPht428afEC40mLWLvxZ8HXu/Dn9nadGVt7T%2Bx21Te7B5Licytd/62ckIEVYx0OhfGr476d%2B2T46%2BCXjBvCWoeGbD4c2fijwjDpmmXFnfxNJd3Vs8F5dTXUkMoJtwwZIYQgbnfjNeI/slf8FQviH8QfCHinxl8ctD026TTfAXhzXdH0rQvBOpaBfXOq6tPc28WiWsWp3Ev9sI88dvDBq1sUs7h58IcKxUA6zxr/wS30PxB%2BzV4Y/Zc0TxF4CTRtPk1u417WPEHwmt9S1GO91W6e6u7zRG%2B1Rw6JMJbi6MR8m5SIPCoXEGH9ls/wBmjSLP9oXwz8aY9dVdL8E/Dy58L%2BEPCyWRCaebm4tnubvzjId7NFZWcKLsBjVJvnbziq/Nlv8A8FIPjzYfAf4fW3xAt/CWi/Ezxl8TfHXhnUbzQ/A2teItNsoPDes6pYyy22l2M32%2B/ldLK3G1ZIwBJPcNtSLyjteI/wDgpA8/xg8L/DHwv8c/Alpo8XgHwx4l8T%2BPJPhzrOraZrK6xc3EEIt3tLtYtCt2%2Bxuy3V/NKga6hjAkaOQkA7j4HfsLeN/gp4t0/XLf45abqmn%2BBfCWueHvg/pVx4OeMaFa6ld29yTqEi3udTaEWdpBGYxZ/uUkDbnk81ev/Yq/Z9%2BLn7NHwt1D4b/Fb4veHPGLXHivWdbsb7w94IuNEEB1PUrrUriKRJtRvfNCz3cgRgyYjVVYMwLnI0T45/HvSf2sfih8HPGSeENU0DQPhvpnivwZb6XYT2F4v2i61O3a2vbqe6khkybBGEiRQqnmNkMBmvLv2IP2zv2o/wBsXSPFHhu38QeC9F1218F%2BGfEGkaxqnwo1mwhspdRe7NzZtpt5qUU%2BqW8cdqoh1a2nitLh5m8sP5EikA%2BtPHP/ACJOsf8AYKuP/RbV5b44/wCUhfwv/wCyM%2BPP/Tt4QrJ/ZA%2BMnxg/aC/Y%2BvvjD8Y7/wANXkutXWunw1qHhXQrjTbbUNDiubiCwvfInu7plNzBEl0MSsNlwg6g51vHH/KQv4X/APZGfHn/AKdvCFAHs1FFFABRRXH/ABp%2BPPwx/Z%2B8O2XiX4narfwx6pqiabpNlo2gXuq32oXbRySiC2s7GGa4uHEUM0pWONiscMjthUZgAdhRXn3iH9qb4D%2BGvg1onx%2BuvHX2zwt4mWyPhq80TS7rUZ9Xa7ANtHa2trFJcXMjg5EccbOAGJUBWIwPFX7eH7Mng3wDpXxS1vxZrreHtWs7u7/tew8Ba1dw6bDaSeVdvqLQWj/2UIJA6S/bPI8popA%2B0xuFAPYK8Z/YP/5Ihrn/AGWb4j/%2BprrdexwTwXUCXVrMkkUiBo5I2BVlIyCCOoI7145%2Bwf8A8kQ1z/ss3xH/APU11ugD2aiiigAooooAKKKKACiiigAooqtq2taNoFk2pa7q1tZW6ffuLudY0X6sxAFJtJXYm0ldlmivJvHP7ef7FHw2jlbxr%2B1f8PrKSFSXtf8AhLLSSfjriGN2kP0CmvHp/wDgrRoPxSnfS/2Iv2V/iR8ZJt5SLWbDR20jQ9wOMPf3iqEOfWPHB5rgrZrltB8sqqcuyfNL/wABjzP8Dy8RneU4aXLOtFy/li%2BeT9Iw55fgj66or5FTQf8Agsx8dHFzqnj34W/ArTH5ittJ0tvE2rx/7MpnItW9MoR3qRv2Hv8Agobra%2BR4y/4K7eI5on4mXQ/hVpWnOV7hXjclD6EdKx/tKvPWlhajXd8kfwlO/wCHyMf7XxVTWjg6sl3fJD8Jz5vvj8j61d0jQySOFVRlmY4AFeeeOf2vP2UvhlK1v8RP2l/AWiTKcG31PxdZwyZ9AjSBifoK8MX/AII3/s5eLGF5%2B0l8Xfix8WZc7pV8d/EO7eAHr8sdsYdijsuTisHxL4X/AOCEf7IO6z8WeH/gpZXdvw9ne2sGt38WPWJhcTqffHNZV8dmVKHPUjSpR7zqN/8ApKS/Fno5XlvHPEOI9hleA55/yx9rWl840aTt/wCBJeZ6V4h/4K2f8E3/AAwrNqX7XPhaXZ1/s55rz8vIjfP4Vyr/APBa79hbVWKfDbV/G3jNs4VfC3w91KbcfQebDHmuT8O/8FC/2LZWVf2Rv2DvHnj4/wDLrfeAvg2ttZ%2BzNNMkPlr77a6tP2o/%2BCpPxCUD4W/8E3dH8K2ZH7jUPiF8SLbLDtutbVfMjx6EmvP/ALWxVX%2BHXjL/AK90alT8W1H8T7D/AIhT4p0/%2BRhPDYJf9P50qTX/AG7VxLqfL2N/IU/8FTvE/iT938LP%2BCbn7Ress3%2BquNT8CpplrJ9JZZjx74pB%2B1h/wVJ8ZH/ihf8Agl7ZaHbt/q77xj8WbEE/70EKb1/Ol/4Rf/gth4051f4o/s/%2BCon%2B6NB0XVNRnjH%2B19pIQn6cUH9in/goj4y%2BT4pf8FXdaitpP9ZY%2BC/hrp2lsg9FuAzP%2BJFHtM3q7Os/SFGmv/JpTYv%2BIbU6f/Iw4rwsO6oqdV/L2WFkn/4GvUQ3f/Bbvxh8kOk/s5%2BDbd/vPcT6xqF3H9NuIj%2BNcR43079sXw/Ix%2BPH/BcH4a%2BACufO0zTPBWiw49hLe3CyD8q7cf8ABHL9n7xV8/x7%2BN/xk%2BJzP/ro/GvxJunib1AS38ravtngd67jwP8A8EsP%2BCd3w8jWPw/%2ByF4LnCY2nW9N/tNvzvDKTR/Z2bVviuv8deb/AApQgv8AyYP9UfCvC/73nGYYp9qVJUY/KVatF/fT/wAj498WfFf9nzw%2BXk%2BIX/Bwf43vJV%2B%2BfCUEJQ/RbOCUflXKt8Wf2YfF/wC48Mf8FH/22viLE/S28CW95CZ/YF7SPIPpxX6g%2BE/gZ8E/AIUeBfg94W0UJ9z%2ByfD1tbbfp5aDFdT06Uf6v4mfx1Ir0VWX/pVdfkH9neDGH%2BHK8ZX/AOvuO5E/VUabf3TPyVHwW8IeNP8ASfA/7B37aviW6b/V6p478cyaLK/vuklIAPXOKD/wT8/av8bHyLb9gfxnY6e33LXx1%2B1S11Cw9WitFV1%2Bm7NfrVRR/qnhZ/xKj%2BUYR/8Akn%2BLD614cUP914WwnrVq4ys/nfEUov5xZ%2BUNj/wRP/aA8Qw%2BSf2XP2avDMMhzJcXvirxdql9k98tdeWf0rS0X/g3c8cy3Y1K%2B/aE%2BH%2BgyEjdbaX8KBqcS%2Bw%2B33Zz%2BIr9TKKtcHZF9qDl87f%2BkxiXHiPLaH%2B55HllG38uX4eb%2B%2Bs67Z%2Bcq/8ABv8AQX1ktl4i/ag0KVR1bTfgL4etGP8AwJULfrTLH/g21/Zvu5i/jD4%2B%2BL7pG%2B8ukaPpdgfwIt3A/Kv0dorb/VPh9/FQT9XJ/qLEcWZhiEk8NhI225cBgI29LYPQ%2BEvDn/Bux/wTx0QL/aa%2BOdYx1Oo%2BJkXd9fs8MX6V2ulf8ELv%2BCX%2Bmoom/ZxlvHX/AJaXfjHVyT%2BC3Sr%2BlfXFFdNPh3Iafw4WH/gKf53OalxPnuGnz4et7J96cKNJ/fTw9N/c0fMth/wRv/4Jn6aALf8AZQ0Zsf8APfU76X/0Oc10Oh/8EvP%2BCefh5w9h%2Bx94FkI/5/tFS6H5Tbq95orojlGUw%2BHDwX/bkf8A5E9Kr4hcf14ctTN8U12%2BsVrfhUR5tpH7Gv7IOgKq6F%2Byr8N7IL937J4H0%2BPH/fMIrqtD%2BFHwt8MEHw38NdA08r902OjQRY/74UVv0V1ww2Gp/BCK9IpfkkeFic6zrGJ/WMVVnf8Amq1Jf%2BlVJAAAMAYA6AV4z%2By//wAlv/aO/wCyzWP/AKhXhevZq8Z/Zf8A%2BS3/ALR3/ZZrH/1CvC9bHmHs1FFFABRRRQAUUUUAFFFFABRRRQAUUUUAFFFFABRRRQAUUUUAFFFFAHPfFcfEFvhzrEXwr8O6Nq3iCWzaPTdP8Qa5LptnK7EKfNuYba6eIBSxBWGTJAGADuHh/wACPh1%2B3b8Ev2BvDvwD0Dwb8KLf4jeC/hdY%2BHvDuozeONSvNHn1GztorSG4n/4lUMwhZIzOyKpYNiIEg%2BcPpGigDyH9iX4PfED4IfBdvB/xU8L6NZeIp9ZuL/W9W0vxjPrsviC7nCPPqV3czadYFbiWUuPJSHyoo44kjKoqxR/JX/BQHwP4c%2BGP/BYL9j34i6RqniCS78Saz4ti1CLVfFuo31rEzro0Ki1trmeSCyU%2Bady26RK%2BF3A7Vx%2BidfnZ/wAFi76TR/8AgoX%2BxHrqcJa%2BPdSE7f3Y5NT8ORsf/Hq8zOJcmXTl25X/AOT0z7jw4oLE8aYai/tqvH78Li/8j9E6KKK9M%2BHCiiigAooooAKKKKACiiigAooooAKy/HP/ACJOsf8AYKuP/RbVqU2eCG5he3uIleORSrowyGBGCCPSgB1FZS%2BDNGRQkdxqaqBhVTW7oAD0AEnFL/wh%2Bk/8/eq/%2BDy7/wDjtAGpRWX/AMIfpP8Az96r/wCDy7/%2BO0f8IfpP/P3qv/g8u/8A47QB4FoX/BL34FeEvAniXwV4M8d%2BM9Kn8QfFCHx1Y67De2U13oF9byxyWtpZLcWkluLK32MsVvNDMFEshyWIYVR/wSr%2BBM/w7vfh3rHxL8faimpeE/H2gajq19qtm95cxeL9VtNU1W4ZhaBPPW4s4/JIQIiO6sknylfof/hD9J/5%2B9V/8Hl3/wDHaP8AhD9J/wCfvVf/AAeXf/x2gDxqb/gn78O2%2BN%2BlfGK2%2BLXju2sNF%2BIdz4407wHBf2Q0WLXbmxubO5usG0N0wlW7uJGiNwYhLI0iopJz6F8S/gToHxi%2BCF58DviT4p1nU4L6zijl18SQW%2BopcwyJNBeo0EKQx3EU0ccyFYggeNTsI4PR/wDCH6T/AM/eq/8Ag8u//jtH/CH6T/z96r/4PLv/AOO0AcT8HP2a7X4L6fdjSfi94s1bVtb8VzeIfGXiPWhpzXniW7ewWxRboQ2ccMccUMNmI1tY4CPsECkshlSXjvgD%2BwtqX7Onw4174c%2BDf2xvirff29dS30uu6zbeGpdRg1Ga48%2BfUPOTRk%2B03Ep%2BRjdCdNmFVFCrt9n/AOEP0n/n71X/AMHl3/8AHaP%2BEP0n/n71X/weXf8A8doA8p0L9ja/8H%2BEtW0jwL%2B1X8TNF1/xL4qk8QeL/HFqmgzanrt21nBZKJ0uNLks4kS2tLSJFt7eHatsnPLluY8ef8ElP2A/iV8MfCvwy8Zfs5%2BGNR/4RA%2BH00zxJqnhywvtYmttJv7e9itJ726glklgnaBorhCf3sVzcLlTJuHvv/CH6T/z96r/AODy7/8AjtH/AAh%2Bk/8AP3qv/g8u/wD47QB5r4j/AGQdG8f/ABZsPiX8VfjP418Vabomp3uo%2BG/BGrNpsek6Tc3Vjc2EkkZtbKG7mxa3l3Ei3FxMqidiBuVGThLX/gmH4Itfhjrnw1T9p34t79S8A23gjRPEcer6XFqfhrw9DKshsLGWPT1X94qrHJcXCT3LIq/vgyhx9C/8IfpP/P3qv/g8u/8A47R/wh%2Bk/wDP3qv/AIPLv/47QB5Ev7D%2BmRfDLwh4Dtf2gvG9rqnw%2B1M3Xgbxlp%2BmeHrW/wBEhNk9ibKG3g0pNPNr9mkkj8t7R8ZVgQ0cbJzV3/wS0%2BBi6Pb%2BEvDnxH8d6N4euPCel%2BHPGHh6w1Szkt/F1hYXNxcQrfvcWsk6u0l3debJay2zSrcMrEgIF%2Bgv%2BEP0n/n71X/weXf/AMdo/wCEP0n/AJ%2B9V/8AB5d//HaAPK9V/YwsPEH7S%2Bs/tG%2BI/wBoDx3f2%2Bv%2BFD4a1T4fzw6KNEl0orNi23Jpq3wAluJZt4u95dtpYxgR1i%2BAP%2BCbH7P2hadPo3xludS%2BMVifDWneHdN074tadpWp2unaVYytLbWscEVlDHLtkYOZ51luGMcZaU7RXt3/AAh%2Bk/8AP3qv/g8u/wD47R/wh%2Bk/8/eq/wDg8u//AI7QB4R4M/4Jjfs8/CH4eab4E/Z2vtV%2BGdzo3j/XvF2j%2BIvA%2Bm6Rb3lpd6vNcvdW4jlsZLWS2WC4W0jjkgcx29naKG3W6OG6p/wTF%2BBFx4c0vwP4c8aeMtC8Pw%2BDdL8KeKNE0vULV4vFukafPNPbW2oy3FtLPxJdXZaS2kt5JBdyq7sNoX3n/hD9J/5%2B9V/8Hl3/APHaP%2BEP0n/n71X/AMHl3/8AHaAPJtW/Yk0nxJ%2B0P4o%2BPniz4/ePNUtPGHhAeFtc8AXUWirosukqt1stlaLTUvlCyXtzKH%2B1byz4ZmRQgrfDr9g3wz8PvD3ifTZvj98Rtc1bxF4Ah8F2XirWL7Tl1HQNIgS4WCKyNtYwxCSNrmSTz545pXdUMjyBAtexf8IfpP8Az96r/wCDy7/%2BO0f8IfpP/P3qv/g8u/8A47QBjWvgLwr8K/gVH8MPAulJY6J4b8JLpejWMf3be1t7XyYYx7KiKPwrhvHH/KQv4X/9kZ8ef%2BnbwhXqJ8GaG%2BFna%2BmTIJiuNWuZEb2ZWkKsPYgivLvHH/KQv4X/APZGfHn/AKdvCFAHs1FFFABXiX7W3g34nHx38Kfjr8Mfhlf%2BNpPh94tvrrVvCmkX9lbXt1aXmkXtkZrZr6e3tzLHLPCSsk0YMTTbWLBUf22igD5G8P8A7OnxE8O/sReEvhn4z%2BEnjyXxp4H1i18R6VP8NNb0Fb2w1a5nuJ5Rp8mq3CWkqWq3k1rILtFjliL7EkyBXn158Bv2xPhz%2ByZoP7J8PwL8deLNH%2BJXinxZrnxn1rQPFWgPrGmaZqmrXN%2BdGR72/somu7pL0wT3dvmKEJctAqs8DR/fVFAGFq/hq%2B174et4X8Na/qngyabT0htL3R4bJ7vSsKMCNbiK4tiygbcMkiemeDXlH/BOnSb/AEH9m6%2B0TVfE99rdzZ/Fv4hw3GsanHAlzfOvjPWgZpVt4ooQ7kbiI40TJO1VGAPdK8Z/YP8A%2BSIa5/2Wb4j/APqa63QB7NRRRQAUUUUAFFeY/tL/ALYv7Of7IvhtPEXx3%2BJdlpL3I/4lukR5n1DUWzgLb20eZJMthdwG0EjcyjmvBv8AhdP/AAUu/bQH2f8AZ5%2BEtv8AAXwRdDC%2BOPiVaLdeILiI/wAdtpYOyBsH/luSCOVevPxGZ4ahU9lG86n8sVd/PpFecnH5nlYvOMJhq3sI3qVf5ILml89owXnOUV6nuH7UH7a/7Ov7IOj2158ZfHCxalqLBNF8MaXCbvVdUcttVbe1T53y3y7jhASAWGRXkEv/AAVu0GWNjov7AP7T%2BoPtPlrb/CN8MewyZ%2BPriu9/Zb/4J4/Ar9mbW5/ibO2o%2BN/iNqOW1n4keNLj7bqlw5GGEbPkW6Y4Cx4O3AZmwDXpXxl%2BP3wT/Z48Lt4y%2BOHxR0TwvpwyI59Yv0iMzDkrEhO6Vv8AZQM3tXLL%2B1ZwdarWjQj25Yzsv70pOKv6Ky7sMFl3FedYmNKg%2BSc3aNKnT9tN%2BV/tS8oQsu71Z8wwfCT/AIKEft7zJqv7QvjK9%2BAfw0lYPB4B8FaiG8SanFnIF9fgYtQR1jjGcEq6AgNXQaT/AMEVP%2BCd8F6ureLfhDqniq/X/l%2B8U%2BMdSu3b6r54Q/itUZP%2BCqOqfGSVtN/YR/Y%2B%2BIHxYLNth8S3Vn/YOgHtkXt4ASR12lFJHQ0v/CuP%2BCw3x1%2Bbxv8AH34bfBbS5v8Aly8D%2BH31zU1Tukk14REr9t8R46ivMjHKK75lSlip/wAzjzL5Sly00vKKa83ufdw8FamE/ecS1qGGnu/rlWMq3yw1JVqkfKPsqVvW56x4U/YL/YU%2BFdv/AGn4d/ZU%2BHOn/ZF3nULnwvaSSRBeSxmlRmAGM53dq5b4rf8ABU/9g74K3qeDl%2BNVj4i1oHybPwz4BtX1i6kcDHlKtoGjRhjG12XGMVytr/wR8%2BBvjO5j1T9qf40/FH4xXQcSNb%2BNfG1wtijjkeXbWxjEa5527mFfQfwh/Z2%2BA/wB0v8Asf4J/B7w54WgKBZP7E0iK3eYesjqoaQ%2B7EmvRo0szty0KNOhH/wJ/dBQj98merQyzwn4fjZVK%2BMl/LRpQwdJ%2Bs6ntazX%2BGlF%2Bavp87D9tH/goF8cj5f7Lf8AwTxv/D2nS/6nxR8bNZTSVQdi2nQlrhgeuVY/rT1/ZU/4Kd/F8i4%2BOv8AwUL0/wAG2r8y6B8IvB0cSg/7F9dnzxj3U5r64orb%2BynV1xNec/Lm5I/dDl/GTN/9foYD3clyvC4VdJOl9Zq/%2BDMU6qv5xox8kj5JP/BHX4EeK/8Akvnx8%2BNHxOR/%2BPi08afEq5e3kHddluItq%2BwPHrXsXwe/Yc/Y/wDgEkbfCP8AZv8ACGjXEQATUI9GjlvOOmbiUNKfxc16pRW1DKcsw8%2BenRjzd2rv75cz/E8zM/EDjfOMN9WxeY1nS/kU/Z0//BdJUaf3wYdOlFFFegfIBRRRQAUUUUAFFFFABRRRQAUUUUAFFFFABRRRQAUUUUAFFFFABXjP7L//ACW/9o7/ALLNY/8AqFeF69mrxn9l/wD5Lf8AtHf9lmsf/UK8L0AezUUUUAFFFFABRRRQAUUUUAFFFFABRRRQAUUUUAFFFFABRRRQAUUUUAFFFFABX5y/8FyP9A%2BPH7P/AIu6f8I%2Buq6ju/u7fEXhBM/%2BRK/Rqvzo/wCC%2BdvKNC0rXLZN02kfCjxDfQgeqeLfAgJ/JjXlZ7/yJsQ%2B0G/us/0Pv/Clr/iJeUQf28RTh/4M5qf/ALkP0XopltcRXdvHdQPujlQOjeoIyDT69U%2BBaadmFFFFAgooooAKKKKACiiigAooooAKKKKACiiigAooooAKKKKACiiigAooooAKKKKACiiigAooooAKKKKACiiigAooooAK8Z8cf8pC/hf/ANkZ8ef%2BnbwhXs1eM%2BOP%2BUhfwv8A%2ByM%2BPP8A07eEKAPZqKKKACiiigAooooAK8Z/YP8A%2BSIa5/2Wb4j/APqa63Xs1eM/sH/8kQ1z/ss3xH/9TXW6APZqKKKAIdQv7DSrCfVNUvYra2toWlubi4kCRxRqCWdmPCqACSTwAK%2BOfFX7a/x%2B/ba8SXvwf/4JnaTFa6BbXDWviT49eIbEnS7Ejh49Mhcf6dOOzEbAcZG1lkFv/goP448V/tL/ABT0L/gmF8FNbmtbrxZajVPi7r1k3zaF4YVxvhyPuzXRxGqn%2BFgGG2XI%2BqvAPgPwh8LvBWlfDrwBoFvpei6JYx2el6faptjghjUKqj8ByTyTknJNeNUnXzLEzoUpuFKGkpL4pS6xi/spK3NJa3fKrNNr5%2BtUxOb4uphqE3CjT0nKPxSlu4Rl9lRTXPJJyu%2BWLTTa8W/Zm/4JwfAD9nbxG3xV1ddS8ffEe6IfUviN46ujf6lJJjkwl8rbKOQBGAwXClmxXtfjjxz4N%2BGfhK/8e/ELxRY6Loul27T6jqmpXKwwW8Y6szsQB2HuSAOTXFftQ/tafBD9kD4f/wDCwPjR4p%2ByrPIYdH0ezTzr/V7njbb2sAO6VySo7Ku4FmUc188eBv2X/jr/AMFCPF%2Bn/Hn/AIKB6HL4d8BWFyt54H%2BAqTEpkcx3etHjz5sci3IAXOGC5kRlKtQwH%2Bx4CmnU3stFG/2qktXr5tzl07r9N4U4FwNPK/7TzGX1TLotrnUb1K81vTw8JNOrU/nqSfsqV%2BarUvanJ13%2B1l%2B1h%2B35fy%2BE/wDgn34efwT8PfOaHUfjr4x0o5ukBww0ixkAaY8ECWQBR8wPlsFJ7z4M/wDBK/8AZg%2BHHihfij8ULXVviv46YhpvGPxOvzqk4cHI8qKT9zCFOduELLwA3FfR1jY2WmWUOm6bZxW9vbxLHBBBGESNFGFVVHAAAAAHAAqWtKWVU5zVXFv2s/Ne7H/DDWK9XzS7yPTx3H%2BNoYaWA4dp/UMK1ZqnJutVXeviLRq1G%2BsIOlRW0aTWrbHHHDGsMMaoiKAqqMAAdABTqKK9Y/P9wooooAKKKKACiiigAooooAKKKKACiiigAooooAKKKKACiiigAooooAKKKKACiiigAooooAK8Z/Zf/wCS3/tHf9lmsf8A1CvC9ezV4z%2By/wD8lv8A2jv%2ByzWP/qFeF6APZqKKKACiiigAooooAKKKKACiiigAooooAKKKKACiiigAooooAKKKKAOa%2BMUnxNh%2BGWsT/BzWtB07xLFa79MvfE2lTX1jEVYFzLBBPbySjyw%2BFWWP5iuWxmvG4/2wfH0P/BNLwd%2B2HP4Y0i48X%2BLfAHhm%2BttLQSxacNZ1lbKGFSC7yLbLdXqZG9nEakbi3Ne2fEzwdqnxB8B6n4L0b4g6z4VuNRt/JTxB4fhs5LyzBILNEt7b3FuSQCp8yFxhjgA4I8o8E/sH%2BFPDH7K1r%2Bx34m%2BOHjzxV4Q0/wAIQeHtLbXG0qG9soLbyxZ3Ec1jYW5FxbCGLy5CDzGrOHfLEA2f2Wvi78UfHOsfET4VfGyfQLzxP8N/GEOkXeteF9KnsLHVYLjS7HUoLhLWe4uZLdgt6YWjM8uWgLhgHCr8jf8ABYD4h/Cj4r6r4n%2BGvgn4meHta13wp%2Bzx43k8S6LpWtQXF3pDrrvg2aNbmGNy9uW8lyA4UnYcdDX2t8Av2f8AR/gJpuvGPxzr/ivXPFevnWfFPirxQ1p9u1S7%2BzW9ojOtnb29vGsdta20KpFDGoWEEgszM3zt/wAFQdG/t/XdU00JuY/smfFeRF9WjuPCsij81FcOaQ9pllePeE//AEmR9VwJifqfHGVV/wCXE4d/%2BV6X%2BZ9QfBPWf%2BEj%2BDXhHxDv3fb/AAxYXG71328bZ/Wunryz9hnWf%2BEh/Yq%2BEOuF8tdfDHQZJD/tHT4Nw/PNep1vhZ%2B0wtOfeMX98Yv9Ty8%2Bw31LPsZh/wCStVj/AOA1asf/AG0KKKK3PJCiiigAooooAKKKKACiiigAooooAKKKKACiiigAooooAKKKKACiiigAooooAKKKKACiiigAooooAKKKKACiiigArxnxx/ykL%2BF//ZGfHn/p28IV7NXjPjj/AJSF/C//ALIz48/9O3hCgD2aiiigArj/AI0/Hn4Y/s/eHbLxL8TtVv4Y9U1RNN0my0bQL3Vb7ULto5JRBbWdjDNcXDiKGaUrHGxWOGR2wqMw7CvEv2tvBvxOPjv4U/HX4Y/DK/8AG0nw%2B8W311q3hTSL%2Bytr26tLzSL2yM1s19Pb25ljlnhJWSaMGJptrFgqOAdZ4h/am%2BA/hr4NaJ8frrx19s8LeJlsj4avNE0u61GfV2uwDbR2traxSXFzI4ORHHGzgBiVAViOd8Y/t9fso%2BA/Amg/EnxL8SbtNJ8RWt/dWD2nhbU7qeC2sHWPULi7t4LZ5rCG0kZY7mW5SJLZ2CTNGxxXlPh/9nT4ieHf2IvCXwz8Z/CTx5L408D6xa%2BI9Kn%2BGmt6Ct7Yatcz3E8o0%2BTVbhLSVLVbya1kF2ixyxF9iSZArzHwn%2Bx7%2B1n8AfAdr4m0T4Rap8Q9e8X%2BC/iNpmtaNdeKdMF1ol/4i15dXs5LyeeWCCWFQ0kd49oHIlVWt4JYyAgB%2BgkE8F1Al1azJJFIgaOSNgVZSMggjqCO9eOfsH/8kQ1z/ss3xH/9TXW66/wb8Jdc8J/s8aF8EdN%2BJWqaVqGjeFLHSE8U6PBbPdxvbwRxG4jW8hnhLHYTiSNx83SuC/4J06Tf6D%2BzdfaJqvie%2B1u5s/i38Q4bjWNTjgS5vnXxnrQM0q28UUIdyNxEcaJknaqjAAB7pXnP7Wf7SXg79kn9n3xJ8evGo82DRLImysFfEmoXjnZb2qd90kjKuQDgEseFNejV8X%2BIv%2BNhf/BQ2DwbH/pXwm/Zz1FLvWO8GueMSD5UB7Otmu4sO0m5WBWQV5%2BZYmpQoqFH%2BJN8sfV7yflFXk/RLqeVm%2BMq4bDqnQ/jVHyQ9XvJ%2BUI3m/RL7R6H/wAE4f2Z/GPwf%2BG2qfGz48t9q%2BLXxWvl1/x/eyJhrVnGbfTUHOyO2jbYEBIDFwDtC46H9ub9r%2B1/ZN%2BGdpJ4Y8PHxH8QPFt8NI%2BHPg6HJl1bUnwFyoIIhj3K0jZAAwu4F1r0T41fGLwB%2Bz98Kdd%2BM/xR1pdP0Hw7p73eoXB5YqOFRB/FI7FURRyzMoHJr5u/YU%2BC3xD%2BOnxLuf8AgpR%2B1PobWvibxHYG3%2BGPhG5O5fCHh98mPg9Lq4Vt8j4DBXI%2BXeyLx1U8JSp5dg377Wst%2BWN/eqPvJtvlv8U3faLP0bgThnKMsyqWc5rHmwOFaioNtSxWIa540U1rZ/xcTUWsKV0mp1aaXQfsrfsBT%2BEPHEf7U/7XnjI/Ef4y3sCk6vfRj%2Bz/AA2p5%2ByaZb/chVMlfNADN8xGzewb6Zoor08Jg8PgqXs6St1b3bfVyb1bfVv8FZLyc/4izbibH/W8fU5mkoxikowpwXw06cI2hTpx2jGKS6vmk5SkUUUV0niBRRRQAUUUUAFFFFABRRRQAUUUUAFFFFABRRRQAUUUUAFFFFABRRRQAUUUUAFFFFABRRRQAUUUUAFeM/sv/wDJb/2jv%2ByzWP8A6hXhevZq8Z/Zf/5Lf%2B0d/wBlmsf/AFCvC9AHs1FFFABRRRQAUUUUAFFFFABRRRQAUUUUAFFFFABRRRQAUUUUAFFFFABRRRQAV8yftl6N/wAJH%2B0Dpvh7Zu%2B3/syfFG32%2Bu%2B78Krj9a%2Bm68P%2BKulx63%2B3h8O9FmxsvPgf8QIHz6PqnhFT/Os6sPaUpQ7pr701%2Bp15fiXg8wo4hfYnCX/gM4y/9tKH/BK7Wf7e/wCCdnwgvt%2B7y/Bdtb5/647ocf8Ajle/18rf8ETdUk1T/gmP8MvtAIltYtVtZVPVTFqt4gH5KK%2Bqa4cmn7TKMPLvTh/6Sj6rxJw31TxEzmj/AC4rEL/ytUf6hRRRXpHxQUUUUAFFFFABRRRQAUUUUAFFFFABRRRQAUUUUAFFFFABRRRQAUUUUAFFFFABRRRQAUUUUAFFFFABRRRQAUUUUAFeM%2BOP%2BUhfwv8A%2ByM%2BPP8A07eEK9mrxnxx/wApC/hf/wBkZ8ef%2BnbwhQB7NRRRQAUUUUAFFFFABXjP7B//ACRDXP8Ass3xH/8AU11uvZq8Z/YP/wCSIa5/2Wb4j/8Aqa63QBo/tw/H%2BH9l39krx78dTcJHdaF4embSd%2BMNfy4htVPsZ5IgfYmsf/gnb%2Bzqv7MP7IHg34b6jZsmvXGmrqvi64mJaa51a6Amunlc8uyu3l7jztjUdq8u/wCCi3/F%2B/2kvgL%2Bw5afvrLW/FreMvG8K8r/AGRpKmRIZR/zznmOwf7UY6V6B/wUs/aG8Qfs9fsrarcfDvzJPG/jG7g8K%2BAbS3bE02rXzGKJo/8AajUySjtmMDvXg1MRThjq%2BMqfBQjyr/E/flbzf7uHq7GPDGS4zi7jiGCwtuZuFCDeylNqdWTfSMIJOb6RhO%2Bx5J42J/4Keftjn4UWZ%2B0/Av4I62k3i%2BZeYPFnihOY7DPSS3ts5kHILEggh42H2yAAMAYA6AV5r%2ByH%2Bzf4W/ZM/Z08LfAjwtDERoumoup3sSYN/fMN1zcsTyTJKWbnoML0Ar0qu3LcLUo03Wr/AMWprLy7RXlBaLu%2BZ7s%2B640z3BZljKeX5XdYDCJ06Cejmr3qV5r/AJ%2BYia9pL%2BWPsqa92nqUUUV6J8WFFFFABRRRQAUUUUAFFFFABRRRQAUUUUAFFFFABRRRQAUUUUAFFFFABRRRQAUUUUAFFFFABRRRQAUUUUAFeM/sv/8AJb/2jv8Ass1j/wCoV4Xr2avGf2X/APkt/wC0d/2Wax/9QrwvQB7NRRRQAUUUUAFFFFABRRRQAUUUUAFFFFABRRRQAUUUUAFFFFABRRRQAUV49/wUHPjkfsOfFg/Df%2B0/7Y/4QLU/s/8AYm/7ds%2Bzv5v2by/n8/yvM8vZ8%2B/bt%2BbFeAfs3eNP2efDGg/tDWH7Id/pknwwu9MSX4d6N8LL%2B3hj1LVodAEmqJoQizG0oX7FuMIKrdGUuPN82gD7grxnxx/ykL%2BF/wD2Rnx5/wCnbwhXzP8A8EW9K8I%2BHfG/jfSfh94y%2BH3ifTJfhp4JlvNb%2BEejf2bocOoL/aqz2t3AJphLrYGx7u6LpJNG9oJLa28pPN93v9S%2BK93/AMFNvBdn428F%2BHtP0K3%2BD3jgeGtR0rxPPeXd%2Bh1bwl5jXNtJZQpaEYTASa4DbjkrtG4A5L/gi9/oH7HN54Q6f8I/8SfEmnbf7u3UJHx/5Er60r5L/wCCSv8AxLvD3x68INx/Yn7TPiy1jX/pnvt3Uj2O419aV5ORaZRRXZW%2B6Uo/ofoHirr4i5nU/nqKf/gylQqf%2B5Aooor1j8/CiiigAooooAKKKKACiiigAooooAKKKKACiiigAooooAKKKKACiiigAooooAKKKKACiiigAooooAKKKKACiiigArxnxx/ykL%2BF/wD2Rnx5/wCnbwhXs1eM%2BOP%2BUhfwv/7Iz48/9O3hCgD2aiiigAoorj/jT8efhj%2Bz94dsvEvxO1W/hj1TVE03SbLRtAvdVvtQu2jklEFtZ2MM1xcOIoZpSscbFY4ZHbCozAA7CivPvEP7UvwI8NfBjRv2gbrxybzwr4kSxPhy90TS7rUZ9WN5t%2BzR2traxSXFxJIGBEccbPgMSAFbHK%2BIP%2BCh37JPhrwPo/xD1D4h6pNp2t2uq3NtHpvgnWLy7toNLuBbalNeWlvaPcWEdpORDcPcxxLBIdkhVuKAPa68Z/YP/wCSIa5/2Wb4j/8Aqa63XsGm6lp%2Bs6db6vpF9DdWl3Ak1rc28geOWNgGV1YcMpBBBHBBrwD9mTxnD8OP2QPiB8Q7kqI9B%2BI/xT1GQt0CweL9elOf%2B%2Bamcowi5PZa/dqTOcacHOWyTb9Em/0OG/Ys/wCMh/2%2Bfjz%2B1/cfv9L8OXcHw08FTnkLDZYm1Eqe6vdMjKw4wSOah/5PH/4Kp/8APx4I/Zr0n6xXXivUE/J/s9uv1jlXtuqL/gnx4i079k//AII56J8aPEqB5rHwVqni7UpZyd99NNJcXabj1Z3DRID1Pyiu6/4JS/B7UfhZ%2Bxf4c8S%2BLmkm8V/EN5fGfjC/nXEt3f6iRPuf0YRGFCPVD6mvlsHCWJhhqEvt3r1PnK8Y/wDgTj8qaPrfDaL4f8PsbxJPSvXX1el3VTFRlVxE1508LalF9HW6H0fRRRX1Z8oFFFFABRRRQAUUUUAFFFFABRRRQAUUUUAFFFFABRRRQAUUUUAFFFFABRRRQAUUUUAFFFFABRRRQAUUUUAFFFFABXjP7L//ACW/9o7/ALLNY/8AqFeF69mrxn9l/wD5Lf8AtHf9lmsf/UK8L0AezUUUUAFFFFABRRRQAUUUUAFFFFABRRRQAUUUUAFFFFABRRRQAUUUUAFFFFABXjPjj/lIX8L/APsjPjz/ANO3hCvZq%2BdvjH4%2BtPCv/BUT4DeE7xlH/CT/AAj%2BI1nag9TNFe%2BE7kf%2BQ4ZeP8KmU4wV3/V9CJzjTjeW2i%2B92X4s5T/gm9/xKP2g/wBqfwh08j42y6js9PtdrG%2Bfx2V9aV8l/sXf8Sf/AIKR/tc%2BFTwo1TwdqMQ/vfaNJkLEfiozX1pXl5LpgOXtOovuqT/zP0PxO97iz2v/AD8oYOf/AIHgsM//AG0KKKK9Y/PwooooAKKKKACiiigAooooAKKKKACiiigAooooAKKKKACiiigAooooAKKKKACiiigAooooAKKKKACiiigAooooAK8Z8cf8pC/hf/2Rnx5/6dvCFezV4z44/wCUhfwv/wCyM%2BPP/Tt4QoA9mooooAK8S/a28G/E4%2BO/hT8dfhj8Mr/xtJ8PvFt9dat4U0i/sra9urS80i9sjNbNfT29uZY5Z4SVkmjBiabaxYKj%2B20UAfFOu/swfHdf2GPh/wDAvWvgrq%2BrX/hjxnpfiDxhpPhfxVaaffzwy3VxfXFtoeo/bLdra4tZ5oovPaS0Z4YpVikHmBh5V42/YM/aK1H4LeGPCmv/ALOfjHWbK38M/EXT9G0bwn8SrLTde0WXWtZW701Nc1A38KatAbYD7apmvVnuV8y4i1B8T1%2BldFAHI6P4L8dXPwR03wHrPj6XQvEaeHrW0v8AxD4SsrRTbXaRIsstrFdW8sCrvDbVeFlCkDbxx8b/ABC8SX/wc/4IsfGuXVfFt9q91F4q%2BJOjz61qaQJc30l3411exM0ot4ooRI5nyRHGiZb5VUYA%2B9q/OL9qX/ipP2ANK%2BCX3v8AhZP7ZXiDw20PXzFk%2BIGtzkEen%2BjivNzmpKnlNdx35Wl6tcq/GSPI4gqSpZHiZR35JJeslyr8Zo7T9uvwpe6J%2Bwl8Dv8Agn7oUkkGofEfV/C3gy5jhO2SHT7WOGW8m9cILdA3tIfevuPT9PstJsINK021SC2toVit4Y1wsaKAFUDsAABXyXrP/F/f%2BCyGk6V/rtI%2BAvwymvpe4h1vWGEaoR0GbJQ4PXI/GvrqsMrpxlia9VbJxpx/w04pP/yZv7j9V4ppxyXhTJMihpy0XiZr%2B/iZL2d/OOGoUvlPz1KKKK9k%2BBCiiigAooooAKKKKACiiigAooooAKKKKACiiigAooooAKKKKACiiigAooooAKKKKACiiigAooooAKKKKACiiigArxn9l/8A5Lf%2B0d/2Wax/9QrwvXs1eM/sv/8AJb/2jv8Ass1j/wCoV4XoA9mooooAKKKKACiiigAooooAKKKKACiiigAooooAKKKKACiiigAooooAKKzfGfjHwr8O/B%2BrfEDxzr9rpWiaFps%2Boaxql7KEhs7WGNpJZpGPCoiKzE9gDXN/BP8AaH%2BE/wC0JoOo%2BIPhjrWoSJo9/wDYtYstc8PX2kX1hOYYp1Se0v4YbiHdDNFKpeMB45FdSVYGgDtq%2BAf%2BCp3je4%2BFn/BTb9in4lRsyQ2useKdMvph0it9Qm0Cxd2PZQJxn619h/A/9pL4TftGWd7qvwi1DWr/AE%2BzSGSPV77wjqen2OoQzb/Knsbm7t4odQgYRsRNbPLGVKNuw6Fvjb/guL4L1HxaNK1fQMrqvhX4MeL/ABHpc4GTDJZeIvBU7uPpEsv515ucc6yurKG8VzL/ALdal/7azyM/dSOTV50/ijHmX/bjjP8AHka%2BZ6h8Cf8AiSf8Fgfjzpf3f7b%2BHfhfUcf3vJWS3z%2BuK%2BtK%2BLLDx3Y%2BH/8Agqj8MPjim0eH/wBoD4Ftpukyk8Jf2jpqSjd0w1vIqgHksePSvtOssnlF060V0qT%2B6TjNP5qVz9W4/ccTPKsfB3hXwOEafRunCdCXzjKkov5BRRRXrnwAUUUUAFFFFABRRRQAUUUUAFFFFABRRRQAUUUUAFFFFABRRRQAUUUUAFFFFABRRRQAUUUUAFFFFABRRRQAUUUUAFeM%2BOP%2BUhfwv/7Iz48/9O3hCvZq8Z8cf8pC/hf/ANkZ8ef%2BnbwhQB7NRRRQAUUUUAFFFFABX5xMR41%2BPP7NnwcHzxv%2B018YPE90naP%2BzPE2tSRO3p80hAPrX6O1%2BW/wm8VeZ%2B2h4x8S%2BZ/o3wm%2BHnxi17zc8Q3lx4%2B16PHsTCm7PpXj53NRwcYvaU4L5KXO/wAIM8zM8NUx7w2Bp/FXr0Ka/wC3qsf/AJE%2Bj/8Agkqj/FHw78Vv20b1S8nxf%2BKGoXWj3BHLaLYO1nYoT32bJx/Svrmvnb/gkv4U/wCEN/4JxfCPSPK2ed4VW%2Bxj/n6lkuc/j52fxr6JrXJYOGU0ebdxUn6y95/jJn6Z4mYqnivEDM1S/h060qUF2p0LUKa%2BUKMfm2%2BoUUUV6Z8MFFFFABRRRQAUUUUAFFFFABRRRQAUUUUAFFFFABRRRQAUUUUAFFFFABRRRQAUUUUAFFFFABRRRQAUUUUAFFFFABXjP7L/APyW/wDaO/7LNY/%2BoV4Xr2avGf2X/wDkt/7R3/ZZrH/1CvC9AHs1FFFABRRRQAUUUUAFFFFABRRRQAUUUUAFFFFABRRRQAUUUUAFFFFAHmH7anwh8VfHz9kz4h/B3wK9qNb8QeFLy10eO%2BlKW810YyYopWAJWJ3Co7YOFZjg4wfLPAXwu%2BNvxW1f41%2BKvH3wa1/4en4xaNDoWl2eoarpV1caJDa6Q8Avrs2V5NHvlnuZUjWB5jsto2k8ovtX6iooA%2BU/%2BCcPwd/aU%2BENzdaF8T/DnjPQPDNj4A0DSzpPjfx1BrrXfiK2%2B0pf3%2BnGG6uBZ2EkZtVSD/R1ymVtLfa3mL8dPgVrPjn9ti18G%2BJvi3r%2Bu6Z48/Z6%2BI2m2ug6xa6clnosc194VhdLZra0indWEg3faJZz8g2lfmz9V14z44/5SF/C/wD7Iz48/wDTt4QqZwjUg4S2aafo1b9SKkI1abhJXTTT9Gmn%2BDZ8Rya/4j8V/wDBF74MftT6JZSyeK/2evElhfyWq/67yNLv30%2B4tW9FNsEdh/djH0r9NfDXiLR/F/hzT/Fnh69W50/VLKK7sbhOksMiB0cexVgfxr43/YM%2BH2g6xF%2B1d%2Bw14uhzplt8UNWYWuP9TpOu2gkiQD02iQg%2Bprtv%2BCQ/xA17xH%2Bxpp/wr8cTZ8S/CnXL/wADeIY8/wCrl0%2BUpEuDzgW7QD/gJr5fJJyo1qcZf8vKfK/8dBuD%2BbhZ/I%2BtyKcs88F8K5O9XLKzpS7%2ByxHMl8o4nDSXl7XzPp%2Biiivqj5UKKKKACiiigAooooAKKKKACiiigAooooAKKKKACiiigAooooAKKKKACiiigAooooAKKKKACiiigAooooAKKKKACvGfHH/KQv4X/wDZGfHn/p28IV7NXjPjj/lIX8L/APsjPjz/ANO3hCgD2aiiigArgPj7%2B0HpHwGs/D9t/wAID4h8Xa94s1w6T4Y8KeFVtPt2o3C2s93Lta9uLe3iSO3tp5GeWZF%2BQKCXdEbv68h/ai%2BEfxY8Y%2BJfh38YPgZbeHb7xN8PPEt1fRaJ4r1efT7HVLS6026sZoWuoLa5kt3UzxTK4gkB8gxkASb0AGa5%2B2x8LLD9nrwl%2B0T4c8PeINfs/HV9p2n%2BFfD2mWsEOpXl/ePsjs2W7mhht5kYSLIJpY1RonUtuwDjaZ%2B3/wCCfFXhLwxqfw3%2BCnjzxR4l8U3OvQ23gDSYdLj1Wz/sS/OnarJPJdX0NksdveGOAyLdOsjTR%2BSZVYNXB%2BIv2HfjLe/sbeE/2Zr7SvAHiweG/EWn614j0LxLqFxHovjZmnmu9QsbpPsczWlsLycTQ/JdbxbRLKm1nU%2Bd%2BIP%2BCUnxAuPh34KE3w7%2BFfirU/Dmh%2BNdGtfAviPW76Dw94YtNc1SC/sP7MmSxlkc6UlsltADBbko5MTWnlxxgA%2B9bK4e7s4rqS1lgaWJXaCbG%2BMkZ2ttJGR0OCRnua/Hv4Uand6Z4M/4KN/FfUGxHpuu%2BJ/Ceky%2Bi3Wva20y5/66XMf51%2BrHh74TzD4E6T8F/iD451zWZ7Xw3aaZq/iSy1m603UNQlihRJLoXNpKk8EkjIXLRyBgWPzV%2BVf/AArVPh5/wS3/AGo/Cmjz3zTeOv2x/EWg6VdajqM95dS20PitLdBJcXDvLcSf6PPukkdncsxZixJPz3Eil9S519lVJfP2U0vxmfQcDZbHNfE7h6hP4VjKMpekXzNv0s38j9Rv2UfCn/CCfsufDbwSY9h0fwFo9kVx0MVlCh/Va7%2Bo7O0t7C0isbSMJFDGscSDoqgYA/IVJXu0aapUY010SX3JL9Dy8xxc8wzCti571Jzm/Wc5zf4yYUUUVocYUUUUAFFFFABRRRQAUUUUAFFFFABRRRQAUUUUAFFFFABRRRQAUUUUAFFFFABRRRQAUUUUAFFFFABRRRQAUUUUAFeM/sv/APJb/wBo7/ss1j/6hXhevZq8Z/Zf/wCS3/tHf9lmsf8A1CvC9AHs1FFFABRRRQAUUUUAFFFFABRRRQAUUUUAFFFFABRRRQAUUUUAFFFFABRRRQAV4z44/wCUhfwv/wCyM%2BPP/Tt4Qr2avGfHH/KQv4X/APZGfHn/AKdvCFAHklxqa/syf8Ff7rUvE8RtfDv7Qvge0tNM1POIn8QaSCi28h6KzWrDYSfmZgoyc4g8I6xF%2Bxl/wVD8VeEfF0LWXgv9o2Kz1LwlqRIFtD4ltIvKurNj/BJcKRICfvsUVckkD1n/AIKD/svX37Vf7N2o%2BEfB94bHxnoN1Fr/AMPtXjcJJY61aEyW7K5%2B5v8AmiLdhIT1ArzvRIPBH/BX3/gnha/8JCW0HxSflmniVkufCviuxO0yKOHjKS/NtyGMM2MgtkfL16FajipUqXxqTrUu0r6Vab9b6duZPoz1fDvOcvyDiHGZJmzawWYQkpSSu4KU4T9pFfalh68YVuXedKdWK1aZ9Z0V8%2Bf8E9P2qPFHx8%2BHep/DL432aaZ8Wfhrf/2H8RdIOAXnQYiv4wMBobhF8xWA27t%2B35dpP0HX0GFxNLGYeNans/vXRpro00010aZWfZHj%2BG84rZbjElUpu107xkmlKM4S2lCcHGcJLSUZJ90iiiiug8gKKKKACiiigAooooAKKKKACiiigAooooAKKKKACiiigAooooAKKKKACiiigAooooAKKKKACiiigAooooAK8Z8cf8pC/hf/ANkZ8ef%2BnbwhXs1eM%2BOP%2BUhfwv8A%2ByM%2BPP8A07eEKAPZqKKKACiiigAooooAK/N34xaXp158CPhH8MNNtET/AISz9vvxJJqUaj/Wwx%2BNvEMs7n1Pyp%2BVfpFX5yad/wAVR%2B0x%2BzR8Nx8yH9on42a5cL2T7F4i1h42P1ZyB715OdpSy6UP5pQj/wCBVIL8rn6B4XpQ40o4n/nxTxNX09lhMTL83H5pH6N0UUV6x%2BfhRRRQAUUUUAFFFFABRRRQAUUUUAFFFFABRRRQAUUUUAFFFFABRRRQAUUUUAFFFFABRRRQAUUUUAFFFFABRRRQAUUUUAFeM/sv/wDJb/2jv%2ByzWP8A6hXhevZq8Z/Zf/5Lf%2B0d/wBlmsf/AFCvC9AHs1FFFABRRRQAUUUUAFFFFABRRRQAUUUUAFFFFABRRRQAUUUUAFFFFAHn/wC1X8arn9nP9m/xt8cdP0FNVvPDHhy6vtP0yWYxR3d0qHyIXcAlEaUorOASqknBxiuQ%2BA3x9%2BI1nrvxO%2BG/7VHiTwgNT%2BGSWOo6h4s8OabPpWlz6VdWRuBM8F1dXLW7RPDdo5M7qUiST5N5RPTfi58LPBvxw%2BFniL4N/EOwkutC8U6Lc6Vq0EMzRSNbzxNG%2Bx1w0bgMSrqQVYAgggVwXw0/Y48J%2BB7TxHb%2BM/iX4l%2BIMnjZ5F8ezePLTSboeJbY2KWMdndQwWMMIto4EIEUMcSuZZWl80yOSAc9%2BxJ%2B1J8W/wBpPxf8T7f4leBbDw9pvh/XtOPgzT0tZ4tQXSL3TYLy3bUBK5AunSUSNGqR%2BT5ghYO0bSPBf/Fz4UeOf%2BCm3gvwF4J%2BJ3h7WNd8MfB7xxF4l0XStaguLvSXk1bwl5a3MMbl4C2x8BwpO046Guq/Z1/YV/Zb/ZO%2BIPjT4jfs9/B7w/4Tu/HUtk2q2nh/w/Y2FvAltbrCkUC20EZWMlTKysWzJI7DG7FVvHH/ACkL%2BF//AGRnx5/6dvCFAHs1fE/xltfHf/BMr9pLxP8AtdeEfCs%2BufBH4kX0F18VdH0qFnuvCupgbG1mGIf6yCTOZwBu3HPZRX2xUV9Y2OqWM2manZxXNtcRNFcW88YdJUYYZWU8MCCQQeCDXFjsH9bhFxlyzi7xl2drarqmtJLquzSa8/McB9epxcJclSD5oS35ZWtqusWtJR6p9Gk18v8A7Rv7K1j%2B0hPoX7c37DPxVsPD/wAULbSo5dA8WWMvmaZ4psCAVsdQRciaFgAofBaMgddiheg/ZA/b98JftAandfBT4u6F/wAK%2B%2BMWgOYPEvw81mcJK7quTcWTMcXVuw%2BdWQsQpBOVKu/mOo/s2/tUf8E7fEuq%2BOv2D9FtvHfwr1K%2Be/1n4H6hdGG60mRjuml0a4bIAY5b7OwI7Krsw26f9vf8E6v%2BCufhyPw/4iibTPH2hsyppt%2B39j%2BMPC91GdzeXn958j8nb5kO4DcCRgeFCrWo4q9NKnWl8VOTap1X/NTltzea16VIO3MfcZDx7k%2Bc4Clw9xlCUJ01y0K8EpVaSu/dhzOKxOG15vYuca1Ftuk43lCX2BRXxtaan/wU%2B/YhjOl6r4cg/aS%2BH1mf9G1OyuRY%2BL7K3HaWN8x35UYAK5lkOSxXoPRvgd/wVD/Yy%2BOOpf8ACJxfFNPCHimOTybzwb8QIDo%2Bp203/PEx3BCSPz0jd69alm%2BFlNU696U39mel/wDDL4Zf9uy%2BSPTzDw8z6jhpY3LOXHYWOvtcM3U5V/09pJe3ovuqtJJO69pLd/QdFIjpIgkjcMrDKsDkEetLXqHwgUUUUAFFFFABRRRQAUUUUAFFFFABRRRQAUUUUAFFFFABRRRQAUUUUAFFFFABRRRQAUUUUAFFFFABXjPjj/lIX8L/APsjPjz/ANO3hCvZq8Z8cf8AKQv4X/8AZGfHn/p28IUAezUUUUAFFFcB8ff2g9I%2BA1n4ftv%2BEB8Q%2BLte8Wa4dJ8MeFPCq2n27UbhbWe7l2te3FvbxJHb208jPLMi/IFBLuiMAd/RXj2uftsfCyw/Z68JftE%2BHPD3iDX7Px1fadp/hXw9plrBDqV5f3j7I7Nlu5oYbeZGEiyCaWNUaJ1LbsA8149/4KWfAj4b/spRftZeJvC3ixbCXXr/AEQeE7fT7aTWf7RsLy6tdQtwi3H2d/sxsb2WSRJ2iMVq7xvICm4A%2Bhq/N/8AZkv7PWv%2BClfhfTb6cLF4Ns/i9rjEjPlm7%2BIms2QOBzk4AAHJ4FfpBX5of8E5v%2BKt/wCCiXxy8Qfe/wCER1vW9D3f3PtXxI1i92/jtzXk5r7zw9P%2BarD/AMl5pfoj9A4A/cxzfF/8%2BsBifvquhQX/AKckvmfo1/wmGk/8%2Bmqf%2BCO7/wDjVL/wmGk/8%2Bmq/wDgju//AI1Xzt4%2B/wCCyP8AwTe%2BF/jvWvhp45/aN%2Bw634d1a50zWLL/AIRDWJfs91bytFLHvjtGR9row3KSpxkEjmsn/h%2BX/wAEtP8Ao6H/AMsnW/8A5CqpZ5ksJOMsTTTX9%2BP%2BZnR8LfEzEUY1aWSYuUZJNNYeq000mmmoWaaaafVNPqfT/wDwmGk/8%2Bmq/wDgju//AI1R/wAJhpP/AD6ar/4I7v8A%2BNV87eAf%2BCyP/BN74oeO9F%2BGngb9o37drfiLVrbTNHsv%2BEQ1iL7RdXEqxRR75LRUTc7qNzEKM5JA5rvv2/vjB8TP2ff2Jvin8cfg3aabN4n8JeB9Q1XR11eZkt1lghaTe%2B2OTdtUMwTbh2UIWQMXXrwuNweNi5YepGaW/K07etj5/POGeJOGK0KWcYKrhpTTcVVpzpuSTs2lNJtJ6Nrroel/8JhpP/Ppqv8A4I7v/wCNUf8ACYaT/wA%2Bmq/%2BCO7/APjVfPep/tufG3wr8Q/HPgv4hfArwJoWn/DL4eWnibxz4nu/ipdGxt3u4tUa3trbGjiWdQ%2BnxiWV0iKJcFo45nQRScz8Nv8AgpVq/wAVdU8M6Hq3wn1fwvrcXxol8HeIdIWW8toZEPg/UNfhn26xo9pevC6QxJt%2Bz2kglQMsskKlbjpPDPqr/hMNJ/59NV/8Ed3/APGqP%2BEw0n/n01X/AMEd3/8AGq%2Bef2Sv2%2BfiT%2B0Pp%2BiXHjn9mD/hH7vxZ8JtF%2BIPhPS/D3jWHVZ7rTr5gjwTm4gsore4hLxMVDyI6PkOGUx11P7Vfiz4q6l8Wvhf%2Bzx8LfivqHgRvG11rF1q3ivRtNsbq9it7CyEi20C39vcW6tJNNCzM8TnyoJVXazCRAD13/hMNJ/59NV/8Ed3/wDGqP8AhMNJ/wCfTVf/AAR3f/xqvnaz/aC/aR%2BKH/BMXwt%2B0D8O7CV/Hut6BoM%2BtXHhrRVu5ooJL21i1e/0%2BzkDieVLM3l1bW7LLvdIkKy52twPgj9pXxv42/Z6%2BJ/inx7%2B1f8AE3wRp/wk%2BJk%2Bg2ni2f4f6TbeJPFUM2l6Xe2MMum3mlsguHm1RbaO3htIJ52SFdqSOykA%2Bx/%2BEw0n/n01X/wR3f8A8ao/4TDSf%2BfTVf8AwR3f/wAar4W/aC/au/b2%2BA3grQvip8YrLxVouoaJ8JvCOsXnhrwT4Fg1LQ9f8SSTyjxFp%2Bo3zW87afHCggEG24tcmYlHu3Hkr6z8QvHHxP8Ahr%2B3jpemyftaeK5PAWh%2BAte8d/FDw3q%2Bj6G2maVpigWunW8ckGmJfIGlN7cKzXDsV0mRWLBiCAfR/wDwmGk/8%2Bmqf%2BCO7/8AjVX7C/tNTtEvrGcSRSDKsAR3wRg8gg5BB5BFfHv/AATN/b1uv2xvjd8WLK//AGg/B/iSxjstD1zwj4P8Natpt1J4a0%2B6juA1rLJaMzzTqEtjcF3kWO5lkjRhGEFfWfg//kEzf9hS%2B/8ASuWgDVooooAKKKKACiiigAooooAKKKKACiiigAooooAKKKKACiiigAooooAKKKKACvGf2X/%2BS3/tHf8AZZrH/wBQrwvXs1eM/sv/APJb/wBo7/ss1j/6hXhegD2aiiigAooooAKKKKACiiigAooooAKKKKACiiigAooooAKKKKACiiigAooooAK8Z8cf8pC/hf8A9kZ8ef8Ap28IV7NXjPjj/lIX8L/%2ByM%2BPP/Tt4QoA9mooooAK8b/aW/YF/ZT/AGspF1b4v/Cq0k16EKbLxZpDtY6tasv3GW6hKu23qquWUf3a9korGvh6GKpunWgpRfRpNfj/AMP5mGJwuGxlF0sRBTi%2BjSa/H89H2Z8fw/s2f8FPf2Z18n9mz9rfRPil4dtz/ovhb41WEn2%2BOMfwLqdriSZ8dDKFUemOvEfGn9ozRvGulf8ACO/8FMf%2BCQfi0pAhifxJ4c0a28UWNsv/AD1W7tyk1qp5PyksM465r73ory6mT%2B44UaslF/ZlapD7p3a%2BUjkwOFzTJMVHE5Njq2HnH4WpOVvRuSnH/t2r8uh%2BX3w0b/gncJAP2FP%2BCt3i/wCC06uVg8KeJddkbSLSTP3DY6ysYZgeP9a2egr3fwt4u/4K5eFdNXVfBPjT4EfHrQ0%2B5fWF5Lo%2BpXI7HdEWs1z7Zr6Z%2BJP7PHwD%2BMqMnxb%2BCfhPxPvXBbX/AA7bXbD0w0qMQR2IPFeF%2BKP%2BCMf/AATt17UW17QvgfP4X1M52aj4R8S3%2BnvHn%2B6kc3lj/vivN/sfMcN/A5V/gnUp/wDksva0/kkkfcf8RM8Q6umcUMFma74iilVf/caChVv5urN31u3qZo/4KRftDfD4eX%2B0R/wS9%2BL%2BjGPi4ufAotfE9vH6sXt2j%2BXvnHFXdE/4LRf8E%2Brq/XRPGnxT1bwbqbddN8YeENQspE9dzeS0Yx/v1SH/AASw8S%2BE/m%2BDX/BRn9oPw8q/6my1HxmmqWcXoFhmiHH1Y1V1v9jH/gpfb2DaXp3/AAUq0TxZp5%2B7pPjr4MabKhHo8sbFn%2BpFP2nEtD7Ll6qlL8YTpP8A8lD/AFw4QxP/ACMOGK1J98Jjk18oYmFRfLn%2BZ7d4K/bk/Yy%2BIoRfBX7Vfw91CWT7ttF4usxN%2BMTSBx%2BIr0vTNW0rW7RdQ0bU7e7gf7k9rMsiN9GUkGvzw8a/8E5P219ZLvr/AOzb%2BxZ4wDZ826uPBOoaVfS/9tLVVAP1Neaal/wTH%2BOOhXbapYf8ErvBS3v8V58Ov2gNS0pm/wB1bqVkX/vmj%2B2c6pfxMLf0jUX6VEL%2B0vCjEbyzPDP%2B/g6Fdf8AgVDEQdvPlv5H6xUV%2BSo/Z5/bq8E/NpH7PH7WnhMJ9238KftP6ZqtsP8Atk1v8w9t1KPiF/wU08ED/iV%2BIv2wbDZ0%2B1/CTRvE%2BP8AvqaPf/Wj/WecP4uFmvT/AIMIh7Hw1rfwuIVD/r/gMwpfe4066%2B4/WmivyW/4b5/4Kb%2BEP%2BQj42%2BKs%2Bzr/wAJt%2BycLHP%2B99iuXx%2BFKv8AwWV/b18LMBrt98LJIl%2B%2BfEHwu8XWU3/kCN0FH%2BuGWR/iQnH/ALd/4KD%2ByeFan8HiTLn/AI61ej/6ewUfxsfrRRX5Nx/8HDPxc0KQW/iLwx8JdQl7x2M/iGyJ/wDAmxIH4mtnSv8Ag4/14uItQ/ZP8NXi97iy%2BMFvbj/vi4tFP61UeM%2BHm7Oq1/26/wBLjjw3h638DN8tqemZYNfhUqUn%2BB%2BpdFfm1pv/AAcX%2BASA2v8A7MstuP4vsXxN0e4x9Msma1Iv%2BDkP9k%2BzG7xF8FfHcOPvf2ddaRd/li9XNbrizh174hL1Ul/7aaw4Nzes7UKuGqf4MbgJfljYn6I0V8E6L/wcW/sJ6yAf%2BEI%2BJ9uD/wA9vDNs%2BP8Av1dvXS6d/wAF6/2AL0BrrUvGtmD1Nz4LuDj/AL97q3hxLkE9sTD7/wDNIqXAvFcXZYZP/DVw0/8A0jFzPtGivkW2/wCC5/8AwTPcA6l8c9RsPX7X4I1bj/vi2ataw/4LUf8ABMTUsfZ/2qrBc/8APfw9qkX/AKHaitlnuSS2xNP/AMDj/mL/AFD42avHLaz/AMNNy/GMpI%2BpKK%2BdLH/grZ/wTg1HH2f9rfwuuf8Anu00X/ocYrYsv%2BCmf/BPrUMeR%2B2L8P1z/wA9/EkMX/oZFbRzXK5bV4f%2BBx/%2BSIlwLxvFXeV4n/wRWf5U2e50V5HZft/fsK6hj7L%2B2Z8KyT0VvH%2BnKfyaYGtWz/bF/ZG1DH2D9qf4cT56eT44sGz%2BU1arHYGW1WD/AO3o/wDyRx1OFuKKP8TL68fWhXX50Uej0Vxlp%2B0d%2Bz1f4%2Bw/HjwZNnp5Xii0bP5SVp2nxZ%2BFd/j7D8S/D82enlazA38nrVV6Etpp/Nf5nDUyrNKP8TD1I%2BtOa/OCOgoqja%2BJvDd9/wAeXiCxmz08q7Rv5GrqsrruRgQehBrRNPY450503aSa9U1%2BaQtFFFMgKKKKACvGfHH/ACkL%2BF//AGRnx5/6dvCFezV4z44/5SF/C/8A7Iz48/8ATt4QoA9mooooAK8h/ai%2BEfxY8Y%2BJfh38YPgZbeHb7xN8PPEt1fRaJ4r1efT7HVLS6026sZoWuoLa5kt3UzxTK4gkB8gxkASb09eooA%2BSfEX7Dvxlvf2NvCf7M19pXgDxYPDfiLT9a8R6F4l1C4j0XxszTzXeoWN0n2OZrS2F5OJofkut4tollTazqeB8e/8ABIr4qeOv2Spvhxon7Q174K8W2/hvxPpHh3wt4WmsJ/C2kWGraq98mlRvf6TPdJbW8S2tostutu3lWqKkcSYjX70ooAwtW8BWviX4eH4d%2BK/E%2Bu3sc2nJa32sWmsS6ZqNyVUBpvtGnG3aCViNxaDygCSFCr8tfnr/AMEXvh9Y%2BE/i1%2B1rqWmy381rF%2B0dcaLaT6pqc99cMln4g1DHmXFw7zTP%2B/BaSR2didzMSSa/SeviX/glB4XbRvAn7Q3iGaP95rP7aPjiZHI6xR%2BIxCo/Bo3/ADrgxdP2mKw7/llJ/wDkkl%2Bp9bw/jVg8gziN9atGlT%2B/FUpv/wBNo%2B2qK%2BYvH/8AwU1/4QLx3rfgX/h3z%2B09rX9i6vc2H9saB8J/tNhf%2BTK0fn20v2kebC%2B3ej4G5WU4GayP%2BHsP/WNT9rT/AMM3/wDdVZSzrLIycXU1X92f/wArPzmXEOTQk4yq6rT4anTT/n0fWlYvxH%2BHngz4ufD7XPhV8RtBi1Xw/wCJdIudL1zTJ2ZUurS4iaKaIlCGAZGYZUgjOQQea%2BfPAP8AwU1/4T3x3ovgX/h3z%2B09ov8AbWr21h/bGv8Awn%2BzWFh50qx%2Bfcy/aT5UKbt7vg7VVjg4r2b9pPxh8Tvh58AvF/xB%2BDPhy01nxPoOgXOpaPot7C7pqUkCGU2oCOhDyqjRo27Cu6sQwBU9eGxmGxkXKjK6W%2Bkl/wClRj%2Bp24PH4PMIuWHlzJaPSS8/tRj%2BFzGg/Y1/Z4Xwr4p8Han4Q1LV7Pxr4bt9B8VS%2BIvFep6ndalYQfafJjkubu5kn3p9rnxKHEo3L8/yJtzvA/7BX7LXw91Jdc8P%2BAtSm1IeLh4ol1bWvGOraleXGrjSJtGF3NcXl1LLOw0%2BeW3xIzLtKnG5EZfDfEf/AAUf%2BJvxI8LXPjH9lxtD1Ww8R%2BO5tI%2BFEsXhJdUbxBp1hpC3Wq3sjXOt6VbQxxXfnwB2uF2izcBJWkHl8T4N/bq%2BI3xc8R6J8eLL7Ta6d48%2BGX7O%2Bqx%2BFG1%2B9%2Bw6VP4i8Xa7bX8kH2aeLc5i8lGY5SdbWFZkliXyj0nYfYfhj9k74EeCbHRLDwd4TvdKXw54GtPB2iTad4j1CGa00W1eN4LVZUnDnaYo8yFjIwBDOwZgdH43/s9fCn9onRNP0P4paPqMw0jUTfaRf6J4ivtIvrG4MMsDPDeWE0NxFuhmmicJIA6SMrAqSK%2BTfgn%2B1T%2B1B8bv2pPhB4w1PxV4R/sTx38LfH%2Bt%2BHPh7pV1e6e1rJZ3%2BjQW0GrSma4S6lj80o1wltEbaR7hFikzk%2B3ftv6t4kn0z4UfDeXxVqvh3SPHfxXsND8Z6l4b1240%2B6hszp9/dJBDe27RT2/n3trZ2vmRtHIy3BVSpcUAeht%2Bz18LYvAifDLRbDV9F0CDw1aaDY6Z4a8U6jpcen2Fr/qEtfsk8ZtHQYXzoSkpVUUuVRQOK8S/8E9f2VfFfg7wz4G1Pwn4khtPCHiS48Q6HeaZ8R9estQXVp0lSa/nvre9S6u7llmlBmnlkf8AeNg81w3wY1P9oL4o/wDBN/xzonwp%2BJlxL43tL3x94b%2BHfjDXNSMk0sdhreq6dpF1NdSCQyP5FvbE3TiQyEecwfcc8J%2Bz1afFT4oy/G/4ATeC/iDpum%2BF9S0Cbwf4f8cftBapBqsWqT6e013YXOv6Vd311DHtSC6ECTXG1LpWKIsgijAPpTxF%2ByP8E/GGqeGdU8YWvifVx4Rhsk0mx1X4g61c2UzWcomtp7y1kuzBqNxHKFlW4u0ml8xEffuRSOq0L4VeAvDfxG8QfFvRtB8vxF4ps7C01zU3upZGuLeyE32WIK7FY0jNzcMFQKC00jEFmJP51WfxW%2BJnj74CWGn/ABL/AGl/GWgSeBvgZ8RfEFtrWj%2BNbu0Z/EGia8%2Bns8t5HKrazbaaIkiR7nfFex3C3FxCzSqE3bz4vftG65%2B1rafFjW/GWs2Gg6X8XPAvhjxDDa%2BPNRtX0S61PQdMlm0RPDf/AB46hbS3GoxSyalM63UAupvLidbJHoA%2B%2B9C%2BGPgfw1491/4n6Jofka54ogsoddvvtMrfaUtFkW3GxmKJsWWQfIqlt3zZwMWvB/8AyCZv%2Bwrff%2BlctalZfg//AJBM3/YVvv8A0rloA1KKKKACiiigAooooAKKKKACiiigAooooAKKKKACiiigAooooAKKKKACiiigArxn9l//AJLf%2B0d/2Wax/wDUK8L17NXjP7L/APyW/wDaO/7LNY/%2BoV4XoA9mooooAKKKKACiiigAooooAKKKKACiiigAooooAKKKKACiiigAooooAKK8e/4KDnxyP2HPiwfhv/af9sf8IFqf2f8AsTf9u2fZ3837N5fz%2Bf5XmeXs%2Bfft2/NivF/2LfFn7IGh%2BIPjVo/wS8VeB7D4F38tm3h2DQNQtodDnuItFR9cawETCNokh%2BytcGH5Vm%2B0F8S%2BaaAPsmvGfHH/ACkL%2BF//AGRnx5/6dvCFeOf8EnfE37MXxR1v4mfG39kPUPAWieBPEL6PDoHw38CX1mP7OtrdbxU1q/sbVtun3mo%2BY37l1WT7PYW3mgTCWOPa%2BMvij9r6z/4KM%2BBI/AnwM%2BG2pW0Pwp8bpoc2rfFbULKS7tDqfhQyyzpHoU4t5VcRBYkaZWDuTIhQK4B9X0V4z/wnH/BQv/o1/wCDP/h%2BNW/%2BZej/AITj/goX/wBGv/Bn/wAPxq3/AMy9AHs1FeM/8Jx/wUL/AOjX/gz/AOH41b/5l6P%2BE4/4KF/9Gv8AwZ/8Pxq3/wAy9AHs1FfOOk/tHft26x8Z9f8Agdb/ALKHwkXVPDvhfSNdvLl/jrqnkSQajc6lbwohHhjcXVtLnLAqAA8eCxLBeo/4Tj/goX/0a/8ABn/w/Grf/MvQB7NRXjP/AAnH/BQv/o1/4M/%2BH41b/wCZej/hOP8AgoX/ANGv/Bn/AMPxq3/zL0AezUV4z/wnH/BQv/o1/wCDP/h%2BNW/%2BZeuX8A/tHft2/ETxX438IaP%2Byh8JIbjwH4oi0LVZLn466oEnnk0rT9TDxbfDBJTydRhUlgp3o4xgBmAPo6ivGf8AhOP%2BChf/AEa/8Gf/AA/Grf8AzL0f8Jx/wUL/AOjX/gz/AOH41b/5l6APZqK8Z/4Tj/goX/0a/wDBn/w/Grf/ADL0f8Jx/wAFC/8Ao1/4M/8Ah%2BNW/wDmXoA9mor5x%2BEX7R37dvxl8KXfi/w5%2Byh8JLa3s/FGt6FJHe/HXVFcz6Xqt1pk7jb4YYbGmtJGQ5yUZSQpyo6j/hOP%2BChf/Rr/AMGf/D8at/8AMvQB7HPbW91GYbqBJEPVJFBB/A1jah8Mvhvq2f7U%2BH2h3Oev2jSYXz%2Ba15r/AMJx/wAFC/8Ao1/4M/8Ah%2BNW/wDmXo/4Tj/goX/0a/8ABn/w/Grf/MvUyhCW6uTKEJ/Ek/VI7C%2B/Zp/Zy1PP9pfADwTcZ6%2Bf4Us3z%2BcdY97%2BxP8AsZ6ln%2B0f2SPhjcZ6%2Bf4C058/nDWP/wAJx/wUL/6Nf%2BDP/h%2BNW/8AmXrl/gj%2B0d%2B3b8ePgx4Q%2BOPhX9lD4SWul%2BM/C%2Bn67pttqHx11RZ4YLu2juI0kCeGGUOFkAYKzDIOCRzWMsJhJb04v/t2P/yJzywOBn8VKD9Yxf8A7adXef8ABO/9gq%2Bz537GHwuXP/PHwLYR/wDoEQrLu/8AgmF/wT1vc%2Bd%2Bx34CXP8Azy0COP8A9BArR/4Tj/goX/0a/wDBn/w/Grf/ADL0f8Jx/wAFC/8Ao1/4M/8Ah%2BNW/wDmXrJ5bl0t6MP/AACP/wAiYyyjKZb4en/4BD/5A5y6/wCCS/8AwThu/wDW/si%2BFB/1yhlT/wBBcVn3P/BHL/gmhd/639k7RB/1y1C9T/0GcV2f/Ccf8FC/%2BjX/AIM/%2BH41b/5l65f43ftHft2/Af4MeL/jj4q/ZQ%2BEl1pfgzwvqGu6lbaf8ddUaeaC0tpLiRIw/hhVLlYyFDMoyRkgc1m8oymW%2BHh/4BH/ACMXkORy3wtP/wAFw/8AkTFuP%2BCJ/wDwTAuv9Z%2BytZjP/PPxLqqf%2Bg3QqlP/AMEMf%2BCW83K/sxtGfWPxprQ/9vMV6f8A8Jx/wUL/AOjX/gz/AOH41b/5l6P%2BE4/4KF/9Gv8AwZ/8Pxq3/wAy9Q8jyV74an/4BH/IzfDnDzd/qdL/AMFx/wAjyS4/4IO/8Ewp/ufAS%2Bj/ANzxnqh/9CuTVOf/AIIFf8Ezpf8AV/CPWYv9zxfff1lNez/8Jx/wUL/6Nf8Agz/4fjVv/mXo/wCE4/4KF/8ARr/wZ/8AD8at/wDMvUPh/In/AMwtP/wFG0ckyen8FCK9E1%2BUkeGzf8G/P/BNmX7ngDxJH/ueLLn%2BpNVpf%2BDev/gnJJ9zw54uj/3PFUn9VNep/F39o79u34NeFLTxf4j/AGUPhJc2954o0TQo47L466ozifVNVtdMgc7vDCjYs13GznOQisQGOFPUf8Jx/wAFC/8Ao1/4M/8Ah%2BNW/wDmXqHw5kD/AOYWH/gKN45fhIfDFr0nUX5VUfPcv/Bu7/wTuk%2B5aeN0/wBzxOP6xGoD/wAG637ACHdaav8AEO3PrD4niH87c19F/wDCcf8ABQv/AKNf%2BDP/AIfjVv8A5l6P%2BE4/4KF/9Gv/AAZ/8Pxq3/zL1P8Aqzw//wBAsPu/4JsqCjtOa/7i11%2BVc%2Bdk/wCDej9iyD/jx%2BKXxat/TyPF1uMf%2BSlTxf8ABAX9lu1/48v2ivjjb%2Bnk%2BN7Zcf8AknX0F/wnH/BQv/o1/wCDP/h%2BNW/%2BZeuX8fftHft2/DvxX4I8Iax%2Byh8JJrjx54ol0LSpLb466oUgnj0rUNTLy7vDAITydOmUFQx3ugxgllFw1kC2w0fx/wDkglh4y3nU/wDBtf8A%2BaDzG3/4IV/Auz/48f2vv2hoMdPJ%2BIduuP8AySq9b/8ABFb4e2QxYft3/tMwenlfE%2BJf5Wde0f8ACcf8FC/%2BjX/gz/4fjVv/AJl6P%2BE4/wCChf8A0a/8Gf8Aw/Grf/MvVrh7JVtQX3z/APkznnlmEqfFzv8A7i1//l55DF/wR80%2B1/48f%2BCjP7UkOOm34qgfythSfAr9kq7/AGWv%2BChXg1bj9pv4q/EZdc%2BDPjLYPib4sOqf2d5OreFs/ZsovleZ5o39d3lR/wB2vX/%2BE4/4KF/9Gv8AwZ/8Pxq3/wAy9UPA/gf9qzxj%2B1Z4c%2BN3xu%2BHHw98M6N4Z%2BHviHQ4YfCvxDvtauru61K%2B0S4RmS40ixSKNE0uUFg7sWlQBcZI6MPlOXYWqqlKnaS85/k5tfgKjlWBw9ZVacXzLvOo/wAJVJL8Ge60UUV6J6AUUUUAFFFFABXzl%2BxD4Y03wt%2Bzx4svbHzCL39obx/qd87DOD/wnmqb24HRUjH4LX0bXyV%2ByV4s/bO0/wCHviiz%2BGPwD%2BGGr6Enxp%2BIv9n6jr3xd1HTbuZf%2BEz1ksZLaLQLlIiG3AATPkAHIJ2hNJtPsXGpUjCUE9JWv52d19z1PqD/AITnwT/0OGl/%2BDCP/wCKpf8AhOfBP/Q4aV/4MI//AIqvLf8AhOP%2BChf/AEa/8Gf/AA/Grf8AzL0f8Jx/wUL/AOjX/gz/AOH41b/5l6ZB6l/wnPgn/ocNK/8ABhH/APFUf8Jz4J/6HDSv/BhH/wDFV5b/AMJx/wAFC/8Ao1/4M/8Ah%2BNW/wDmXo/4Tj/goX/0a/8ABn/w/Grf/MvQBqX3wM/Yo1T4caT8HdT%2BDvwtuPCOgXv2zQvCs/h7TX03TbndI3nQWxTyoZN0sp3ooOZHOfmOdDT/AIcfso6Ta2tlpXgP4e20NlaaTaWUNvpdii28GlzyXGmRIAoCJaTyyy26jAgkkd4wrMSfM/gj%2B0d%2B3b8ePgx4Q%2BOPhX9lD4SWul%2BM/C%2Bn67pttqHx11RZ4YLu2juI0kCeGGUOFkAYKzDIOCRzXUf8Jx/wUL/6Nf8Agz/4fjVv/mXoA1bH4H/sVaX4p1vxzpnwg%2BF1vrfiWC6h8R6xB4f01LrVY7rH2lLmUJvnWXavmByQ%2BBuziug8b6V8APiZ4Iufhl8SNN8HeIPDd5CkV34e1yG0u7GeNGVkR4JQ0bKrKpAK4BUEdBXFf8Jx/wAFC/8Ao1/4M/8Ah%2BNW/wDmXo/4Tj/goX/0a/8ABn/w/Grf/MvQB1cfg79maLQrPwvF4V8CLpmneHbjQNP05bGyEFrpNwIRPp8ceNqWsgt4A8AAjcQR5U7FxhSfs%2BfsMzfC2L4GzfBD4Tv4Jgv/ALdB4Pbw1ph0qO6yT562nl%2BSJMs3zhd3zHnmuJ%2BN37R37dvwH%2BDHi/44%2BKv2UPhJdaX4M8L6hrupW2n/AB11Rp5oLS2kuJEjD%2BGFUuVjIUMyjJGSBzXUf8Jx/wAFC/8Ao1/4M/8Ah%2BNW/wDmXoA2/Efwh/Y78YeHfDvhDxb8L/hpqmk%2BEJo5vCel6jomnz2%2BiSRgCN7SN0K2zKAApjCkADGKs6h8Ov2U9W%2BKtr8dtV8CfD258b2MAgsvGVxpdi%2Bq28QVlCJdlfORdruuAwGHYdzXN/8ACcf8FC/%2BjX/gz/4fjVv/AJl6P%2BE4/wCChf8A0a/8Gf8Aw/Grf/MvQB6j/wAJz4J/6HDS/wDwYR//ABVHgw79DM6g7Jr67liJGNyPcyMrfQqQR7GvLv8AhOP%2BChf/AEa/8Gf/AA/Grf8AzL1y/wAXf2jv27fg14UtPF/iP9lD4SXNveeKNE0KOOy%2BOuqM4n1TVbXTIHO7wwo2LNdxs5zkIrEBjhSAfR1FeM/8Jx/wUL/6Nf8Agz/4fjVv/mXo/wCE4/4KF/8ARr/wZ/8AD8at/wDMvQB7NRXjP/Ccf8FC/wDo1/4M/wDh%2BNW/%2BZej/hOP%2BChf/Rr/AMGf/D8at/8AMvQB7NRXzj4%2B/aO/bt%2BHfivwR4Q1j9lD4STXHjzxRLoWlSW3x11QpBPHpWoamXl3eGAQnk6dMoKhjvdBjBLL1H/Ccf8ABQv/AKNf%2BDP/AIfjVv8A5l6APZqK8Z/4Tj/goX/0a/8ABn/w/Grf/MvR/wAJx/wUL/6Nf%2BDP/h%2BNW/8AmXoA9morxn/hOP8AgoX/ANGv/Bn/AMPxq3/zL1y%2BrftHft26P8Z9A%2BB1x%2Byh8JG1TxF4X1fXbO5T466p5EcGnXOm28yOT4Y3B2bVICoCkEJJkqQoYA%2BjqK8Z/wCE4/4KF/8ARr/wZ/8AD8at/wDMvR/wnH/BQv8A6Nf%2BDP8A4fjVv/mXoA9morxn/hOP%2BChf/Rr/AMGf/D8at/8AMvR/wnH/AAUL/wCjX/gz/wCH41b/AOZegD2aivnHSf2jv27dY%2BM%2Bv/A63/ZQ%2BEi6p4d8L6Rrt5cv8ddU8iSDUbnUreFEI8Mbi6tpc5YFQAHjwWJYL1H/AAnH/BQv/o1/4M/%2BH41b/wCZegD2aivGf%2BE4/wCChf8A0a/8Gf8Aw/Grf/MvR/wnH/BQv/o1/wCDP/h%2BNW/%2BZegD2aivGf8AhOP%2BChf/AEa/8Gf/AA/Grf8AzL1y/gH9o79u34ieK/G/hDR/2UPhJDceA/FEWharJc/HXVAk88mlafqYeLb4YJKeTqMKksFO9HGMAMwB9HUV4z/wnH/BQv8A6Nf%2BDP8A4fjVv/mXo/4Tj/goX/0a/wDBn/w/Grf/ADL0AezV4z%2By/wD8lv8A2jv%2ByzWP/qFeF6P%2BE4/4KF/9Gv8AwZ/8Pxq3/wAy9W/2Vvhz8afB%2BsfFDx38dNA8L6Tqnj74hRa5Z6V4T8S3OrW9raxaDo%2BmKr3FxZWbNI0mnSuVEW0LIg3Mc4APW6KKKACiiigAooooAKKKKACiiigAooooAKKKKACiiigAooooAKKKKACiiigAr5X1b9rT4uQ/tIza4vh3we3w80j4wW3wuaKTSLg6%2Bbi80%2B1uG1CO8%2B0eUkH26W3t2tPs5LJD5/nghYa%2BqK8ZvP2IfhxefH5vjq/jnxUttL4rh8VXPgVLq1/sSfX4tOXTo9UZTb/afNW3SMeULgW5kiSYwmUeZQB7NRRRQAUUUUAfMfhz9pb4mQ/8FAPFHwf%2BI2seHvCfhtdftNF8GRaj8ItZS68Ywf2BBqOIPEbXa6c0sd3c6gBaCF5fLtJgFBZpF%2BnK8r8WfstQeP8A4yaR8U/Hvxv8a6vpXh7XY9a0DwBcHTItGsdQjt3gjnDQ2SXsuzzJJFSa6kjEj7tnyIF9UoAKKKKAPF/%2BCgvxd%2BOH7P37I/jT49fAK98KR6x4J0K71y6g8YaLc31td2lrbSzPboltdWzJK7IiiQuVQFiUfgV5/wCPP2tPi54L%2BPHi3U/Cnh3whF8PPCHxj8I/D7xlZzaRcHW9V1XXYNFSPUIbtLhYY44P7c0mMxSW8ryJDPiWPagr2H9rH9nGy/a0%2BBGvfs%2B618VfFPhHSfE9lLY65f8AhBdO%2B13NlLE8U1tuv7S6jRHV%2BWRFkBUbXXnPFwfsA%2BDp/iLZ/EXxV8cfH2usdZ0nXPE2jahLpUVj4n1zTEjSx1a9jtrCJluIhBaYW2aCBjY2xeJjHkgHvdFFFABXi/7ZPxd%2BOHwStfAPjH4WXvhT%2BxtQ%2BJnhzw94vsfEGi3NzdXNrqus2Omg2csN1CltJGtzLJvkSdSURdnJNe0V5V%2B1d%2By2/wC1V4b0LwvP8ffG/ga30LxJYa6jeC4dHZ7u9sbyC8s2lOpafeDbFcW8bhYwgblZN6naADzj9nn9pX4ma3%2B1X4t%2BCPxQ1fw94T06HxTrdv4J8JSfCLWdMudetoXSU39vrdxd/YNQdjJLLLFbQFxkuxXDE/TleS6T%2ByiH%2BMmi/GX4j/tAeO/Gs3he7vLvwnoXiEaTDYaPdXNvJayXES2Gn20sr/Z5p4V8%2BSVUWd9oBII9aoAKKKKAPB/2tfjN%2B0F8BvEnhfxd4M8QeCL3w9rXi7QvDtt4FvvDl5JrmuXN7fLDctaXsd6sUJgtWkutjWkw8u0mZ3jQF4%2BP/Yl/a0%2BLnxU174caZ4/8O%2BELLwv8X/g5cfEH4Zaf4W0i4tJtA0q2n0tBp960lxLHcyfZ9a05hLDHborRzp5RAVq9C%2BJP7HK/ET9p3RP2prf9o74gaFqvh/QxpWmaBpkOiXGlwQPN5ty0aX2mXE0MtyBHHNLFKjtHDGisgHJ%2Bzz%2BxD8OP2cfF0Xirw3448Va1HpPh6Xw94K0jxBdWr2vhLRZLhLh9OsBBbxSeSXhthm4eeUJaQIJAqAUAezUUUUAFfL/7XPx4/aX%2BC3xE0/wppUPgDxro/jmHWrbRfhzF4PvpNYS1tNDuruS/uJxevFdWwuore2khFrED9vhQTGRkST6grw6b9ia4j/aP8V/tNaJ%2B1X8S9O1fxbpsOnXOlwweH57TT7OGBo4baza50mW5t4lld7rYs2153LuHB20AM/YQ/aE8b/Hz4eXl18V/H2jX3i7ThZtr/huy%2BF2r%2BEbzQHntllEFzY6vdT3Dgtv8u4AjjkVDtDbSa90rzf4Hfs3ad8GfE/iT4h6x8UvFPjjxV4risbfWPE/i5rBbl7SzE32W1SLT7W1to4o2ublxthDM1xIWZsjHpFABRRRQB8UftMftw/H74HfH2/8AgPqOm%2BEPFo1h7JPCX9o/DPV9FttH1G98Q6HpmkM95d3ktv4gSOXWIZbhtPETW7Wnz%2BS0qKvv/wCyr8X/AIkfEYeP/h98Yjok/ir4aePG8NazqvhrTprOw1PzNL07Vre4ht5p55LfNrqlujxtNLiSOTDEEY5b4l/8E8/Bvxt1648QfG34%2BfEXxU9tHcf8IdDf3OlWyeEbiS6t7qO7sDZ2ELPcQy2lsYpLtrkp5Xfe%2B/0f4B/AXQ/gH4e1bTbLxfrniTVvEWvTa14n8UeJXtjf6vfSRxQ%2BdMLWCCBdkEFvAiRRRoscEaheCSAd1RRRQAV8TftRftj/ALWHwd%2BM3ij4V%2BD/AA14c8b6rpfhi/8AEPhKNPgnr8MmkOl3p9vCsLm9dfE0n2TU51mGl%2BU8LRFZBH5wjH2zXiOtfsX6j4i8ft8T9c/a0%2BKFzrdhb3sPg27dNBC%2BFVu5oXnNpGNKCTs0cKQBr0XRWIuAQzs5AOl/ZU%2BLc3xl%2BFI8Taj8TtG8U6ja6rc2OrXWj%2BCL/wANmzuIm%2Ba1n0zUbie6tJ0UruSZgxDK21VYV6TXCfAP4B6B8AdC1mx0/wAW654j1XxN4gl1zxP4m8SS27Xuq38kMMHmyC2hhgjCwW9vCqRRRoqQoAuck93QAUUUUAFFFFABRRRQAUUUUAUfFHiGw8JeGtR8V6qHNrpljNd3IiXLeXGhdsDucKa%2Bc/2Jv2k/jX4/8U6P4M%2BNnh7wZZjx18LbL4jeGYfBmlXFoNMjvLgm70%2B7M1xKLuaN7m2f7YggE7SzEwR7QX%2Blru0tb%2B1lsb23SaGaNo5opVDK6kYKkHggjjFeQ/szfsV%2BAv2YNVfV9A%2BIPi3xLLbeGLHwz4dHiy9tZhoGhWbyPb6bam3t4S0amT5pZzNcSCOLzJn8tcAHsVFFFABXC/tQePPiL8LP2aPiJ8Tvg/4UXXvFvhzwLq%2BqeFtDaxmuhqOo29nLLbWxhgZZZhJKiJ5cbB23YUgkGu6rO8W6Jf8AiXwxqHh/S/Feo6Fc3tpJDb61pCwNdWLspAmiFxFLEXU8gSRumR8ysMggHl37FPxan%2BKPwzvrLVviFoGs6n4d1RdOvNM0T4Yap4OfQ0FtBJFZ3Glapcz3MLhHEiu3lo8UsWxMDe/sVeefAf8AZ20n4HXniXxHc/ETxJ4x8SeL9RhvPEXinxW9mLu6MNulvBEI7G2traKKONAFWOFMlnZizMzH0OgAooooA%2BXP2qP2sfih%2Bzh8XvHFl8StG8JeIvhfYfs7%2BL/HttoVvolwmqu2iDS1ntri5kuXt5op1vpwEFshUImXfLCu3/Zn%2BL/x81T4ueMv2df2ln8JXnijwx4Y8PeJY9V8FaTc2NlJZas%2BpW62xhubm5cyw3GkXYMokCyI8TeXGdy1B8Y/2FfDvx0%2BOrfGXx58dvHMumzeCtT8I33w9hg0X%2BxLvRtSW2%2B32khfTWvSJ2tIHZxdB1KEIyIzIek/Z3/Zd0P9n2%2B1rxHP8UPFvjfxDr9rYWV/4n8bXNpJemwsUkWzsx9ktrePyojPcOCUMjvcyu7uzZoA9PooooAK%2BRPjX%2B0v%2B1t4L1z9oDwLb%2BFfBniy98BeH/CniT4bWOk/D/U7%2BdY9R1XUoQl3axXjy6jPAumxzqbYW5LkhV%2BVWr67rwuX9ijxDF8dPG3x/wBC/bQ%2BK2lat430ix0y5sbKz8MNaabbWVxcz2aWwl0V5P3RvLpQZnlLrORJ5hVCoB1f7Knxbm%2BMvwpHibUfido3inUbXVbmx1a60fwRf%2BGzZ3ETfNaz6ZqNxPdWk6KV3JMwYhlbaqsK9JrhPgH8A9A%2BAOhazY6f4t1zxHqvibxBLrnifxN4klt2vdVv5IYYPNkFtDDBGFgt7eFUiijRUhQBc5J7ugAooooA%2BNv2lv2u/wBpb9nj4zQfDbWU%2BGfjW%2B1uCCbwjDp3ha9tJfBd5qXiHTPD2kTanK99MLqKdtXnBaJbORxY3Sxhl8wxe4/sq/F/4kfEYeP/AIffGI6JP4q%2BGnjxvDWs6r4a06azsNT8zS9O1a3uIbeaeeS3za6pbo8bTS4kjkwxBGOFtv8Agmr4Sa6%2BIb%2BIf2l/idrNv8SdeOuaxb6kdC8yz1KK4hn0%2B5trqLS0ulNg9vbi0jeaSKJYUDI/OfWPgH8BdD%2BAfh7VtNsvF%2BueJNW8Ra9NrXifxR4le2N/q99JHFD50wtYIIF2QQW8CJFFGixwRqF4JIB3VFFFADLn7T9mk%2Bx7PO2HyvNzt3Y4zjnGa%2BIPit%2B1z%2B2n8NPiJrnw2t7bwH4z17wxe%2BGrfVvHXgj4K6/q0fhy31Zrx72wl0qz1Ke7uZo4bKxuiYp0/d3ULSwIDE0n29dwyXFrLbw3UkDyRsqzxBS8ZIwGXcCuR1GQR6g189/Bj9gLxB8BPhtcfDT4d/t1fGKKO61Z9Tm1m8svCc%2BoS3cryyXM80z6EftMk7y7pJJxI%2BY02FAMEA9Z%2BAnxDsvit8HfD/xCsPiBo3ipNT08SPr/AIf0mawtLuQErIUtZ5ppbYq6sjQySO8bKysdykDr65L4F/Bfwl%2Bz78L9O%2BFPgq5v7iysJbq4mvtVuRNdX13dXMt1dXUzhVDSzXE80r7VVd0h2qq4UdbQAVR8Tw%2BJLnw3qFv4N1OxstXkspV0u81Owe6toLgoRHJLDHLE00atgsiyRlgCA6k7herN8Y6Df%2BKPC1/4d0vxbqWg3N5avFBrWjiA3Vi5HE0QuIpYi6nkCSN0OPmVhkUAfE3wp/bg/ay%2BN3xcv/gB8K7H4fw%2BOUfW5x428V/C3WtEj1DSdItNFk%2BzTaFd36ajYyteeI4o45J5ihhWW4jidZVB%2Btv2bPjNp/7R37OngH9obStIk0%2B18eeCtK8RW1hNJue2jvbOK5WJmwMlRKFJwM4ryLUP%2BCang7UdbuviQ/7S3xSh%2BImoT3K6l8T7W80iLWLqxntILWXTvLXTRZRWxjtbZgIraORZYVlEgky597%2BH3gPwn8LPAWifDHwHo8enaH4c0i20vRdPiJKW1pbxLFDEucnCoiqM%2BlAGvRRRQBy/xp1Hxxo3wt1rW/hz4hsdL1awszdQ32oeD73xAiRxkPKBp1jPBc3kjRK6pFDIHLsuFc/I3xb8Nf8Agoj8ftc8Q%2BHtd8YXHhHwJ4N1OXUf%2BEo8eXvwM8RXFrqN7a67JpMX2pkvo18Myy2ttETFqjPJbsRG/wBzZX238TPBmu%2BPfCU3hzw38Utf8G3kksbxa/4ZisXu4NrAlVW/trmBgwBUh4m4Jxg4I8V1D/gnN4U1fwDe/CjVP2kPibceF/Edzd3PxC0N7jR9njKe7uXnu5L6UaaJ4fODiFo7KS1jEKKiooBJAPomiiigAooooAKKKKACiiigAooooAKKKKACiiigAooooAKKKKACiiigAooooAKKKKACiiigAooooAKKKKACiiigAooooAKKKKACiiigAooooAKKKKACiiigAooooAKKKKACiiigAooooAKKKKACiiigAooooAKKKKACiiigAooooAKKKKACiiigAooooAKKKKACiiigAooooAKKKKACiiigAooooAKKKKACiiigAooooAKKKKACiiigAooooAKKKKACiiigAooooAKKKKACiiigAooooAKKKKACiiigAooooAKKKKACiiigAooooAKKKKACiiigD//Z\">"
      ]
     },
     "metadata": {},
     "output_type": "display_data"
    }
   ],
   "source": [
    "s.run(tf.global_variables_initializer())\n",
    "\n",
    "BATCH_SIZE = 512\n",
    "EPOCHS = 40\n",
    "\n",
    "# for logging the progress right here in Jupyter (for those who don't have TensorBoard)\n",
    "simpleTrainingCurves = matplotlib_utils.SimpleTrainingCurves(\"cross-entropy\", \"accuracy\")\n",
    "\n",
    "for epoch in range(EPOCHS):  # we finish an epoch when we've looked at all training samples\n",
    "    \n",
    "    batch_losses = []\n",
    "    for batch_start in range(0, X_train_flat.shape[0], BATCH_SIZE):  # data is already shuffled\n",
    "        _, batch_loss = s.run([step, loss], {input_X: X_train_flat[batch_start:batch_start+BATCH_SIZE], \n",
    "                                             input_y: y_train_oh[batch_start:batch_start+BATCH_SIZE]})\n",
    "        # collect batch losses, this is almost free as we need a forward pass for backprop anyway\n",
    "        batch_losses.append(batch_loss)\n",
    "\n",
    "    train_loss = np.mean(batch_losses)\n",
    "    val_loss = s.run(loss, {input_X: X_val_flat, input_y: y_val_oh})  # this part is usually small\n",
    "    train_accuracy = accuracy_score(y_train, s.run(classes, {input_X: X_train_flat}))  # this is slow and usually skipped\n",
    "    valid_accuracy = accuracy_score(y_val, s.run(classes, {input_X: X_val_flat}))  \n",
    "    simpleTrainingCurves.add(train_loss, val_loss, train_accuracy, valid_accuracy)"
   ]
  },
  {
   "cell_type": "markdown",
   "metadata": {},
   "source": [
    "# Submit a linear model"
   ]
  },
  {
   "cell_type": "code",
   "execution_count": 31,
   "metadata": {
    "collapsed": true
   },
   "outputs": [],
   "source": [
    "## GRADED PART, DO NOT CHANGE!\n",
    "# Testing shapes \n",
    "grader.set_answer(\"9XaAS\", grading_utils.get_tensors_shapes_string([W, b, input_X, input_y, logits, probas, classes]))\n",
    "# Validation loss\n",
    "grader.set_answer(\"vmogZ\", s.run(loss, {input_X: X_val_flat, input_y: y_val_oh}))\n",
    "# Validation accuracy\n",
    "grader.set_answer(\"RMv95\", accuracy_score(y_val, s.run(classes, {input_X: X_val_flat})))"
   ]
  },
  {
   "cell_type": "code",
   "execution_count": 33,
   "metadata": {},
   "outputs": [
    {
     "name": "stdout",
     "output_type": "stream",
     "text": [
      "Submitted to Coursera platform. See results on assignment page!\n"
     ]
    }
   ],
   "source": [
    "# you can make submission with answers so far to check yourself at this stage\n",
    "grader.submit(COURSERA_EMAIL, COURSERA_TOKEN)"
   ]
  },
  {
   "cell_type": "markdown",
   "metadata": {},
   "source": [
    "# MLP with hidden layers"
   ]
  },
  {
   "cell_type": "markdown",
   "metadata": {},
   "source": [
    "Previously we've coded a dense layer with matrix multiplication by hand. \n",
    "But this is not convenient, you have to create a lot of variables and your code becomes a mess. \n",
    "In TensorFlow there's an easier way to make a dense layer:\n",
    "```python\n",
    "hidden1 = tf.layers.dense(inputs, 256, activation=tf.nn.sigmoid)\n",
    "```\n",
    "\n",
    "That will create all the necessary variables automatically.\n",
    "Here you can also choose an activation function (remember that we need it for a hidden layer!).\n",
    "\n",
    "Now define the MLP with 2 hidden layers and restart training with the cell above.\n",
    "\n",
    "You're aiming for ~0.97 validation accuracy here."
   ]
  },
  {
   "cell_type": "code",
   "execution_count": null,
   "metadata": {
    "collapsed": true
   },
   "outputs": [],
   "source": [
    "# write the code here to get a new `step` operation and then run the cell with training loop above.\n",
    "# name your variables in the same way (e.g. logits, probas, classes, etc) for safety.\n",
    "### YOUR CODE HERE ###"
   ]
  },
  {
   "cell_type": "markdown",
   "metadata": {},
   "source": [
    "# Submit the MLP with 2 hidden layers\n",
    "Run these cells after training the MLP with 2 hidden layers"
   ]
  },
  {
   "cell_type": "code",
   "execution_count": null,
   "metadata": {
    "collapsed": true
   },
   "outputs": [],
   "source": [
    "## GRADED PART, DO NOT CHANGE!\n",
    "# Validation loss for MLP\n",
    "grader.set_answer(\"i8bgs\", s.run(loss, {input_X: X_val_flat, input_y: y_val_oh}))\n",
    "# Validation accuracy for MLP\n",
    "grader.set_answer(\"rE763\", accuracy_score(y_val, s.run(classes, {input_X: X_val_flat})))"
   ]
  },
  {
   "cell_type": "code",
   "execution_count": null,
   "metadata": {
    "collapsed": true
   },
   "outputs": [],
   "source": [
    "# you can make submission with answers so far to check yourself at this stage\n",
    "grader.submit(COURSERA_EMAIL, COURSERA_TOKEN)"
   ]
  },
  {
   "cell_type": "code",
   "execution_count": null,
   "metadata": {
    "collapsed": true
   },
   "outputs": [],
   "source": []
  }
 ],
 "metadata": {
  "kernelspec": {
   "display_name": "Python [default]",
   "language": "python",
   "name": "python3"
  },
  "language_info": {
   "codemirror_mode": {
    "name": "ipython",
    "version": 3
   },
   "file_extension": ".py",
   "mimetype": "text/x-python",
   "name": "python",
   "nbconvert_exporter": "python",
   "pygments_lexer": "ipython3",
   "version": "3.5.2"
  }
 },
 "nbformat": 4,
 "nbformat_minor": 1
}
